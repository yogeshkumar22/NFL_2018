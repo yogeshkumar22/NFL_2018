{
  "nbformat": 4,
  "nbformat_minor": 0,
  "metadata": {
    "kernelspec": {
      "display_name": "Python 3",
      "language": "python",
      "name": "python3"
    },
    "language_info": {
      "codemirror_mode": {
        "name": "ipython",
        "version": 3
      },
      "file_extension": ".py",
      "mimetype": "text/x-python",
      "name": "python",
      "nbconvert_exporter": "python",
      "pygments_lexer": "ipython3",
      "version": "3.8.6"
    },
    "colab": {
      "name": "Analyzing the NFL games.ipynb",
      "provenance": [],
      "include_colab_link": true
    }
  },
  "cells": [
    {
      "cell_type": "markdown",
      "metadata": {
        "id": "view-in-github",
        "colab_type": "text"
      },
      "source": [
        "<a href=\"https://colab.research.google.com/github/yogeshkumar22/NFL_2018/blob/main/Analyzing%20the%20NFL%20games/Analyzing_the_NFL_games.ipynb\" target=\"_parent\"><img src=\"https://colab.research.google.com/assets/colab-badge.svg\" alt=\"Open In Colab\"/></a>"
      ]
    },
    {
      "cell_type": "markdown",
      "metadata": {
        "id": "58rO08CilFRE"
      },
      "source": [
        "# Analyzing the NFL games"
      ]
    },
    {
      "cell_type": "markdown",
      "metadata": {
        "id": "MGM4KryKlFR3"
      },
      "source": [
        "The first dataset that we will be looking is the dataset containing information about the NFL games. Such kind of datasets are very helpful in giving us an idea about how a sport's season was/will be played out."
      ]
    },
    {
      "cell_type": "markdown",
      "metadata": {
        "id": "W5kGo6tRlFR-"
      },
      "source": [
        "This dataset contains the following information:"
      ]
    },
    {
      "cell_type": "markdown",
      "metadata": {
        "id": "s2HvsWymlFSE"
      },
      "source": [
        "- gameId: Game identifier, unique (numeric)\n",
        "\n",
        "- gameDate: Game Date (time, mm/dd/yyyy)\n",
        "\n",
        "- gameTimeEastern: Start time of game (time, HH:MM:SS, EST)\n",
        "\n",
        "- homeTeamAbbr: Home team three-letter code (text)\n",
        "\n",
        "- visitorTeamAbbr: Visiting team three-letter code (text)\n",
        "\n",
        "- week: Week of game (numeric)"
      ]
    },
    {
      "cell_type": "markdown",
      "metadata": {
        "id": "0DOH4w8vlFSS"
      },
      "source": [
        "Let us start by importing the necessary libraries,"
      ]
    },
    {
      "cell_type": "code",
      "metadata": {
        "id": "-Xzs3OrKlFSZ"
      },
      "source": [
        "import pandas as pd\n",
        "import matplotlib.pyplot as plt\n",
        "import datetime\n",
        "\n",
        "%matplotlib inline"
      ],
      "execution_count": 1,
      "outputs": []
    },
    {
      "cell_type": "markdown",
      "metadata": {
        "id": "DzPSPGINlFSk"
      },
      "source": [
        "Next, importing the CSV file called `games.csv` which contains information about the games."
      ]
    },
    {
      "cell_type": "code",
      "metadata": {
        "id": "HYTLt8WFlFSq"
      },
      "source": [
        "# Reading in the CSV file as a DataFrame \n",
        "games_df = pd.read_csv('games.csv')"
      ],
      "execution_count": 5,
      "outputs": []
    },
    {
      "cell_type": "code",
      "metadata": {
        "scrolled": false,
        "colab": {
          "base_uri": "https://localhost:8080/",
          "height": 204
        },
        "id": "QNnJ7RgFlFSx",
        "outputId": "83865e0a-2704-4122-8c8c-429a278c229f"
      },
      "source": [
        "# Looking at the first five rows\n",
        "games_df.head()"
      ],
      "execution_count": 6,
      "outputs": [
        {
          "output_type": "execute_result",
          "data": {
            "text/html": [
              "<div>\n",
              "<style scoped>\n",
              "    .dataframe tbody tr th:only-of-type {\n",
              "        vertical-align: middle;\n",
              "    }\n",
              "\n",
              "    .dataframe tbody tr th {\n",
              "        vertical-align: top;\n",
              "    }\n",
              "\n",
              "    .dataframe thead th {\n",
              "        text-align: right;\n",
              "    }\n",
              "</style>\n",
              "<table border=\"1\" class=\"dataframe\">\n",
              "  <thead>\n",
              "    <tr style=\"text-align: right;\">\n",
              "      <th></th>\n",
              "      <th>gameId</th>\n",
              "      <th>gameDate</th>\n",
              "      <th>gameTimeEastern</th>\n",
              "      <th>homeTeamAbbr</th>\n",
              "      <th>visitorTeamAbbr</th>\n",
              "      <th>week</th>\n",
              "    </tr>\n",
              "  </thead>\n",
              "  <tbody>\n",
              "    <tr>\n",
              "      <th>0</th>\n",
              "      <td>2018090600</td>\n",
              "      <td>09/06/2018</td>\n",
              "      <td>20:20:00</td>\n",
              "      <td>PHI</td>\n",
              "      <td>ATL</td>\n",
              "      <td>1</td>\n",
              "    </tr>\n",
              "    <tr>\n",
              "      <th>1</th>\n",
              "      <td>2018090901</td>\n",
              "      <td>09/09/2018</td>\n",
              "      <td>13:00:00</td>\n",
              "      <td>CLE</td>\n",
              "      <td>PIT</td>\n",
              "      <td>1</td>\n",
              "    </tr>\n",
              "    <tr>\n",
              "      <th>2</th>\n",
              "      <td>2018090902</td>\n",
              "      <td>09/09/2018</td>\n",
              "      <td>13:00:00</td>\n",
              "      <td>IND</td>\n",
              "      <td>CIN</td>\n",
              "      <td>1</td>\n",
              "    </tr>\n",
              "    <tr>\n",
              "      <th>3</th>\n",
              "      <td>2018090903</td>\n",
              "      <td>09/09/2018</td>\n",
              "      <td>13:00:00</td>\n",
              "      <td>MIA</td>\n",
              "      <td>TEN</td>\n",
              "      <td>1</td>\n",
              "    </tr>\n",
              "    <tr>\n",
              "      <th>4</th>\n",
              "      <td>2018090900</td>\n",
              "      <td>09/09/2018</td>\n",
              "      <td>13:00:00</td>\n",
              "      <td>BAL</td>\n",
              "      <td>BUF</td>\n",
              "      <td>1</td>\n",
              "    </tr>\n",
              "  </tbody>\n",
              "</table>\n",
              "</div>"
            ],
            "text/plain": [
              "       gameId    gameDate gameTimeEastern homeTeamAbbr visitorTeamAbbr  week\n",
              "0  2018090600  09/06/2018        20:20:00          PHI             ATL     1\n",
              "1  2018090901  09/09/2018        13:00:00          CLE             PIT     1\n",
              "2  2018090902  09/09/2018        13:00:00          IND             CIN     1\n",
              "3  2018090903  09/09/2018        13:00:00          MIA             TEN     1\n",
              "4  2018090900  09/09/2018        13:00:00          BAL             BUF     1"
            ]
          },
          "metadata": {},
          "execution_count": 6
        }
      ]
    },
    {
      "cell_type": "markdown",
      "metadata": {
        "id": "v1OeHCrNlFTB"
      },
      "source": [
        "Let us look at the shape of the DataFrame to determine how many games were played out in the 2018 NFL season."
      ]
    },
    {
      "cell_type": "code",
      "metadata": {
        "scrolled": true,
        "colab": {
          "base_uri": "https://localhost:8080/"
        },
        "id": "B82CklAVlFTI",
        "outputId": "0abc5ba6-6516-4bf6-950f-8150721de25d"
      },
      "source": [
        "# Viewing the shape of the DataFrame\n",
        "games_df.shape"
      ],
      "execution_count": 7,
      "outputs": [
        {
          "output_type": "execute_result",
          "data": {
            "text/plain": [
              "(253, 6)"
            ]
          },
          "metadata": {},
          "execution_count": 7
        }
      ]
    },
    {
      "cell_type": "markdown",
      "metadata": {
        "id": "DyQGJZLSlFTM"
      },
      "source": [
        "Before we begin our analysis, let us convert the date and time columns to Pandas datetime values. This will help to standarize such data across the multiple datasets that we work with and it will also help us use ready-made functions."
      ]
    },
    {
      "cell_type": "code",
      "metadata": {
        "colab": {
          "base_uri": "https://localhost:8080/",
          "height": 204
        },
        "id": "bleBITLjlFTQ",
        "outputId": "9e77c95e-ce50-4e8c-b93a-52e30152b09b"
      },
      "source": [
        "# Converting to datetime.date values\n",
        "games_df['gameDate'] = pd.to_datetime(games_df['gameDate']).dt.date\n",
        "\n",
        "# Converting to datetime.time values\n",
        "games_df['gameTimeEastern'] = pd.to_datetime(games_df['gameTimeEastern']).dt.time\n",
        "\n",
        "# Looking at the first five rows\n",
        "games_df.head()"
      ],
      "execution_count": 8,
      "outputs": [
        {
          "output_type": "execute_result",
          "data": {
            "text/html": [
              "<div>\n",
              "<style scoped>\n",
              "    .dataframe tbody tr th:only-of-type {\n",
              "        vertical-align: middle;\n",
              "    }\n",
              "\n",
              "    .dataframe tbody tr th {\n",
              "        vertical-align: top;\n",
              "    }\n",
              "\n",
              "    .dataframe thead th {\n",
              "        text-align: right;\n",
              "    }\n",
              "</style>\n",
              "<table border=\"1\" class=\"dataframe\">\n",
              "  <thead>\n",
              "    <tr style=\"text-align: right;\">\n",
              "      <th></th>\n",
              "      <th>gameId</th>\n",
              "      <th>gameDate</th>\n",
              "      <th>gameTimeEastern</th>\n",
              "      <th>homeTeamAbbr</th>\n",
              "      <th>visitorTeamAbbr</th>\n",
              "      <th>week</th>\n",
              "    </tr>\n",
              "  </thead>\n",
              "  <tbody>\n",
              "    <tr>\n",
              "      <th>0</th>\n",
              "      <td>2018090600</td>\n",
              "      <td>2018-09-06</td>\n",
              "      <td>20:20:00</td>\n",
              "      <td>PHI</td>\n",
              "      <td>ATL</td>\n",
              "      <td>1</td>\n",
              "    </tr>\n",
              "    <tr>\n",
              "      <th>1</th>\n",
              "      <td>2018090901</td>\n",
              "      <td>2018-09-09</td>\n",
              "      <td>13:00:00</td>\n",
              "      <td>CLE</td>\n",
              "      <td>PIT</td>\n",
              "      <td>1</td>\n",
              "    </tr>\n",
              "    <tr>\n",
              "      <th>2</th>\n",
              "      <td>2018090902</td>\n",
              "      <td>2018-09-09</td>\n",
              "      <td>13:00:00</td>\n",
              "      <td>IND</td>\n",
              "      <td>CIN</td>\n",
              "      <td>1</td>\n",
              "    </tr>\n",
              "    <tr>\n",
              "      <th>3</th>\n",
              "      <td>2018090903</td>\n",
              "      <td>2018-09-09</td>\n",
              "      <td>13:00:00</td>\n",
              "      <td>MIA</td>\n",
              "      <td>TEN</td>\n",
              "      <td>1</td>\n",
              "    </tr>\n",
              "    <tr>\n",
              "      <th>4</th>\n",
              "      <td>2018090900</td>\n",
              "      <td>2018-09-09</td>\n",
              "      <td>13:00:00</td>\n",
              "      <td>BAL</td>\n",
              "      <td>BUF</td>\n",
              "      <td>1</td>\n",
              "    </tr>\n",
              "  </tbody>\n",
              "</table>\n",
              "</div>"
            ],
            "text/plain": [
              "       gameId    gameDate gameTimeEastern homeTeamAbbr visitorTeamAbbr  week\n",
              "0  2018090600  2018-09-06        20:20:00          PHI             ATL     1\n",
              "1  2018090901  2018-09-09        13:00:00          CLE             PIT     1\n",
              "2  2018090902  2018-09-09        13:00:00          IND             CIN     1\n",
              "3  2018090903  2018-09-09        13:00:00          MIA             TEN     1\n",
              "4  2018090900  2018-09-09        13:00:00          BAL             BUF     1"
            ]
          },
          "metadata": {},
          "execution_count": 8
        }
      ]
    },
    {
      "cell_type": "markdown",
      "metadata": {
        "id": "icKjcXT1lFTW"
      },
      "source": [
        "Now, let us understand how the games are distributed in accordance to the date, time, day and the week."
      ]
    },
    {
      "cell_type": "markdown",
      "metadata": {
        "id": "q-x3LtG-lFTa"
      },
      "source": [
        "Starting the analysis by looking at the distribution of games in relation to the game dates."
      ]
    },
    {
      "cell_type": "code",
      "metadata": {
        "colab": {
          "base_uri": "https://localhost:8080/",
          "height": 1000
        },
        "id": "dN-heQY3lFTd",
        "outputId": "735d4ee4-56b4-4634-bf74-e5ed76b50564"
      },
      "source": [
        "# Checking the frequency of games in relation to game dates\n",
        "# games_df['gameDate'].value_counts().reset_index()\n",
        "\n",
        "games_df['gameDate'].value_counts().reset_index()"
      ],
      "execution_count": 9,
      "outputs": [
        {
          "output_type": "execute_result",
          "data": {
            "text/html": [
              "<div>\n",
              "<style scoped>\n",
              "    .dataframe tbody tr th:only-of-type {\n",
              "        vertical-align: middle;\n",
              "    }\n",
              "\n",
              "    .dataframe tbody tr th {\n",
              "        vertical-align: top;\n",
              "    }\n",
              "\n",
              "    .dataframe thead th {\n",
              "        text-align: right;\n",
              "    }\n",
              "</style>\n",
              "<table border=\"1\" class=\"dataframe\">\n",
              "  <thead>\n",
              "    <tr style=\"text-align: right;\">\n",
              "      <th></th>\n",
              "      <th>index</th>\n",
              "      <th>gameDate</th>\n",
              "    </tr>\n",
              "  </thead>\n",
              "  <tbody>\n",
              "    <tr>\n",
              "      <th>0</th>\n",
              "      <td>2018-12-30</td>\n",
              "      <td>16</td>\n",
              "    </tr>\n",
              "    <tr>\n",
              "      <th>1</th>\n",
              "      <td>2018-12-02</td>\n",
              "      <td>14</td>\n",
              "    </tr>\n",
              "    <tr>\n",
              "      <th>2</th>\n",
              "      <td>2018-09-16</td>\n",
              "      <td>14</td>\n",
              "    </tr>\n",
              "    <tr>\n",
              "      <th>3</th>\n",
              "      <td>2018-12-09</td>\n",
              "      <td>14</td>\n",
              "    </tr>\n",
              "    <tr>\n",
              "      <th>4</th>\n",
              "      <td>2018-09-23</td>\n",
              "      <td>14</td>\n",
              "    </tr>\n",
              "    <tr>\n",
              "      <th>5</th>\n",
              "      <td>2018-12-23</td>\n",
              "      <td>13</td>\n",
              "    </tr>\n",
              "    <tr>\n",
              "      <th>6</th>\n",
              "      <td>2018-09-30</td>\n",
              "      <td>13</td>\n",
              "    </tr>\n",
              "    <tr>\n",
              "      <th>7</th>\n",
              "      <td>2018-10-07</td>\n",
              "      <td>13</td>\n",
              "    </tr>\n",
              "    <tr>\n",
              "      <th>8</th>\n",
              "      <td>2018-10-14</td>\n",
              "      <td>13</td>\n",
              "    </tr>\n",
              "    <tr>\n",
              "      <th>9</th>\n",
              "      <td>2018-12-16</td>\n",
              "      <td>12</td>\n",
              "    </tr>\n",
              "    <tr>\n",
              "      <th>10</th>\n",
              "      <td>2018-10-28</td>\n",
              "      <td>12</td>\n",
              "    </tr>\n",
              "    <tr>\n",
              "      <th>11</th>\n",
              "      <td>2018-11-11</td>\n",
              "      <td>12</td>\n",
              "    </tr>\n",
              "    <tr>\n",
              "      <th>12</th>\n",
              "      <td>2018-10-21</td>\n",
              "      <td>12</td>\n",
              "    </tr>\n",
              "    <tr>\n",
              "      <th>13</th>\n",
              "      <td>2018-11-25</td>\n",
              "      <td>11</td>\n",
              "    </tr>\n",
              "    <tr>\n",
              "      <th>14</th>\n",
              "      <td>2018-11-04</td>\n",
              "      <td>11</td>\n",
              "    </tr>\n",
              "    <tr>\n",
              "      <th>15</th>\n",
              "      <td>2018-11-18</td>\n",
              "      <td>11</td>\n",
              "    </tr>\n",
              "    <tr>\n",
              "      <th>16</th>\n",
              "      <td>2018-09-09</td>\n",
              "      <td>10</td>\n",
              "    </tr>\n",
              "    <tr>\n",
              "      <th>17</th>\n",
              "      <td>2018-11-22</td>\n",
              "      <td>3</td>\n",
              "    </tr>\n",
              "    <tr>\n",
              "      <th>18</th>\n",
              "      <td>2018-12-15</td>\n",
              "      <td>2</td>\n",
              "    </tr>\n",
              "    <tr>\n",
              "      <th>19</th>\n",
              "      <td>2018-12-22</td>\n",
              "      <td>2</td>\n",
              "    </tr>\n",
              "    <tr>\n",
              "      <th>20</th>\n",
              "      <td>2018-09-10</td>\n",
              "      <td>2</td>\n",
              "    </tr>\n",
              "    <tr>\n",
              "      <th>21</th>\n",
              "      <td>2018-10-08</td>\n",
              "      <td>1</td>\n",
              "    </tr>\n",
              "    <tr>\n",
              "      <th>22</th>\n",
              "      <td>2018-12-06</td>\n",
              "      <td>1</td>\n",
              "    </tr>\n",
              "    <tr>\n",
              "      <th>23</th>\n",
              "      <td>2018-12-24</td>\n",
              "      <td>1</td>\n",
              "    </tr>\n",
              "    <tr>\n",
              "      <th>24</th>\n",
              "      <td>2018-12-13</td>\n",
              "      <td>1</td>\n",
              "    </tr>\n",
              "    <tr>\n",
              "      <th>25</th>\n",
              "      <td>2018-12-10</td>\n",
              "      <td>1</td>\n",
              "    </tr>\n",
              "    <tr>\n",
              "      <th>26</th>\n",
              "      <td>2018-11-08</td>\n",
              "      <td>1</td>\n",
              "    </tr>\n",
              "    <tr>\n",
              "      <th>27</th>\n",
              "      <td>2018-10-15</td>\n",
              "      <td>1</td>\n",
              "    </tr>\n",
              "    <tr>\n",
              "      <th>28</th>\n",
              "      <td>2018-11-05</td>\n",
              "      <td>1</td>\n",
              "    </tr>\n",
              "    <tr>\n",
              "      <th>29</th>\n",
              "      <td>2018-09-24</td>\n",
              "      <td>1</td>\n",
              "    </tr>\n",
              "    <tr>\n",
              "      <th>30</th>\n",
              "      <td>2018-09-20</td>\n",
              "      <td>1</td>\n",
              "    </tr>\n",
              "    <tr>\n",
              "      <th>31</th>\n",
              "      <td>2018-09-17</td>\n",
              "      <td>1</td>\n",
              "    </tr>\n",
              "    <tr>\n",
              "      <th>32</th>\n",
              "      <td>2018-10-11</td>\n",
              "      <td>1</td>\n",
              "    </tr>\n",
              "    <tr>\n",
              "      <th>33</th>\n",
              "      <td>2018-10-01</td>\n",
              "      <td>1</td>\n",
              "    </tr>\n",
              "    <tr>\n",
              "      <th>34</th>\n",
              "      <td>2018-10-04</td>\n",
              "      <td>1</td>\n",
              "    </tr>\n",
              "    <tr>\n",
              "      <th>35</th>\n",
              "      <td>2018-11-26</td>\n",
              "      <td>1</td>\n",
              "    </tr>\n",
              "    <tr>\n",
              "      <th>36</th>\n",
              "      <td>2018-11-19</td>\n",
              "      <td>1</td>\n",
              "    </tr>\n",
              "    <tr>\n",
              "      <th>37</th>\n",
              "      <td>2018-09-13</td>\n",
              "      <td>1</td>\n",
              "    </tr>\n",
              "    <tr>\n",
              "      <th>38</th>\n",
              "      <td>2018-10-25</td>\n",
              "      <td>1</td>\n",
              "    </tr>\n",
              "    <tr>\n",
              "      <th>39</th>\n",
              "      <td>2018-09-06</td>\n",
              "      <td>1</td>\n",
              "    </tr>\n",
              "    <tr>\n",
              "      <th>40</th>\n",
              "      <td>2018-10-29</td>\n",
              "      <td>1</td>\n",
              "    </tr>\n",
              "    <tr>\n",
              "      <th>41</th>\n",
              "      <td>2018-11-15</td>\n",
              "      <td>1</td>\n",
              "    </tr>\n",
              "    <tr>\n",
              "      <th>42</th>\n",
              "      <td>2018-12-03</td>\n",
              "      <td>1</td>\n",
              "    </tr>\n",
              "    <tr>\n",
              "      <th>43</th>\n",
              "      <td>2018-10-18</td>\n",
              "      <td>1</td>\n",
              "    </tr>\n",
              "    <tr>\n",
              "      <th>44</th>\n",
              "      <td>2018-11-01</td>\n",
              "      <td>1</td>\n",
              "    </tr>\n",
              "    <tr>\n",
              "      <th>45</th>\n",
              "      <td>2018-11-29</td>\n",
              "      <td>1</td>\n",
              "    </tr>\n",
              "    <tr>\n",
              "      <th>46</th>\n",
              "      <td>2018-12-17</td>\n",
              "      <td>1</td>\n",
              "    </tr>\n",
              "    <tr>\n",
              "      <th>47</th>\n",
              "      <td>2018-10-22</td>\n",
              "      <td>1</td>\n",
              "    </tr>\n",
              "    <tr>\n",
              "      <th>48</th>\n",
              "      <td>2018-11-12</td>\n",
              "      <td>1</td>\n",
              "    </tr>\n",
              "    <tr>\n",
              "      <th>49</th>\n",
              "      <td>2018-09-27</td>\n",
              "      <td>1</td>\n",
              "    </tr>\n",
              "  </tbody>\n",
              "</table>\n",
              "</div>"
            ],
            "text/plain": [
              "         index  gameDate\n",
              "0   2018-12-30        16\n",
              "1   2018-12-02        14\n",
              "2   2018-09-16        14\n",
              "3   2018-12-09        14\n",
              "4   2018-09-23        14\n",
              "5   2018-12-23        13\n",
              "6   2018-09-30        13\n",
              "7   2018-10-07        13\n",
              "8   2018-10-14        13\n",
              "9   2018-12-16        12\n",
              "10  2018-10-28        12\n",
              "11  2018-11-11        12\n",
              "12  2018-10-21        12\n",
              "13  2018-11-25        11\n",
              "14  2018-11-04        11\n",
              "15  2018-11-18        11\n",
              "16  2018-09-09        10\n",
              "17  2018-11-22         3\n",
              "18  2018-12-15         2\n",
              "19  2018-12-22         2\n",
              "20  2018-09-10         2\n",
              "21  2018-10-08         1\n",
              "22  2018-12-06         1\n",
              "23  2018-12-24         1\n",
              "24  2018-12-13         1\n",
              "25  2018-12-10         1\n",
              "26  2018-11-08         1\n",
              "27  2018-10-15         1\n",
              "28  2018-11-05         1\n",
              "29  2018-09-24         1\n",
              "30  2018-09-20         1\n",
              "31  2018-09-17         1\n",
              "32  2018-10-11         1\n",
              "33  2018-10-01         1\n",
              "34  2018-10-04         1\n",
              "35  2018-11-26         1\n",
              "36  2018-11-19         1\n",
              "37  2018-09-13         1\n",
              "38  2018-10-25         1\n",
              "39  2018-09-06         1\n",
              "40  2018-10-29         1\n",
              "41  2018-11-15         1\n",
              "42  2018-12-03         1\n",
              "43  2018-10-18         1\n",
              "44  2018-11-01         1\n",
              "45  2018-11-29         1\n",
              "46  2018-12-17         1\n",
              "47  2018-10-22         1\n",
              "48  2018-11-12         1\n",
              "49  2018-09-27         1"
            ]
          },
          "metadata": {},
          "execution_count": 9
        }
      ]
    },
    {
      "cell_type": "markdown",
      "metadata": {
        "id": "yKqoooEjlFTh"
      },
      "source": [
        "There were a total of 50 different game dates."
      ]
    },
    {
      "cell_type": "code",
      "metadata": {
        "scrolled": false,
        "colab": {
          "base_uri": "https://localhost:8080/",
          "height": 204
        },
        "id": "JxQ2McYJlFTj",
        "outputId": "4b417a47-d962-43a1-90d5-93c26b8f348e"
      },
      "source": [
        "# Checking the frequency of games in relation to game dates\n",
        "date_dist = games_df['gameDate'].value_counts().reset_index()\n",
        "\n",
        "# Renaming the columns\n",
        "date_dist.columns = ['date', 'frequency']\n",
        "\n",
        "# Looking at the first five rows\n",
        "date_dist.head()"
      ],
      "execution_count": 10,
      "outputs": [
        {
          "output_type": "execute_result",
          "data": {
            "text/html": [
              "<div>\n",
              "<style scoped>\n",
              "    .dataframe tbody tr th:only-of-type {\n",
              "        vertical-align: middle;\n",
              "    }\n",
              "\n",
              "    .dataframe tbody tr th {\n",
              "        vertical-align: top;\n",
              "    }\n",
              "\n",
              "    .dataframe thead th {\n",
              "        text-align: right;\n",
              "    }\n",
              "</style>\n",
              "<table border=\"1\" class=\"dataframe\">\n",
              "  <thead>\n",
              "    <tr style=\"text-align: right;\">\n",
              "      <th></th>\n",
              "      <th>date</th>\n",
              "      <th>frequency</th>\n",
              "    </tr>\n",
              "  </thead>\n",
              "  <tbody>\n",
              "    <tr>\n",
              "      <th>0</th>\n",
              "      <td>2018-12-30</td>\n",
              "      <td>16</td>\n",
              "    </tr>\n",
              "    <tr>\n",
              "      <th>1</th>\n",
              "      <td>2018-12-02</td>\n",
              "      <td>14</td>\n",
              "    </tr>\n",
              "    <tr>\n",
              "      <th>2</th>\n",
              "      <td>2018-09-16</td>\n",
              "      <td>14</td>\n",
              "    </tr>\n",
              "    <tr>\n",
              "      <th>3</th>\n",
              "      <td>2018-12-09</td>\n",
              "      <td>14</td>\n",
              "    </tr>\n",
              "    <tr>\n",
              "      <th>4</th>\n",
              "      <td>2018-09-23</td>\n",
              "      <td>14</td>\n",
              "    </tr>\n",
              "  </tbody>\n",
              "</table>\n",
              "</div>"
            ],
            "text/plain": [
              "         date  frequency\n",
              "0  2018-12-30         16\n",
              "1  2018-12-02         14\n",
              "2  2018-09-16         14\n",
              "3  2018-12-09         14\n",
              "4  2018-09-23         14"
            ]
          },
          "metadata": {},
          "execution_count": 10
        }
      ]
    },
    {
      "cell_type": "markdown",
      "metadata": {
        "id": "dIdMH284lFTo"
      },
      "source": [
        "Next, sorting the data based on the date and setting the index as the date."
      ]
    },
    {
      "cell_type": "code",
      "metadata": {
        "colab": {
          "base_uri": "https://localhost:8080/",
          "height": 235
        },
        "id": "nJT023JKlFTq",
        "outputId": "746691b8-0b25-45cd-d154-80ac5e4ffd6e"
      },
      "source": [
        "# Sorting the DataFrame based on the date values\n",
        "sorted_date_dist = date_dist.sort_values('date').set_index('date')\n",
        "\n",
        "# Looking at the first five rows\n",
        "sorted_date_dist.head()"
      ],
      "execution_count": 11,
      "outputs": [
        {
          "output_type": "execute_result",
          "data": {
            "text/html": [
              "<div>\n",
              "<style scoped>\n",
              "    .dataframe tbody tr th:only-of-type {\n",
              "        vertical-align: middle;\n",
              "    }\n",
              "\n",
              "    .dataframe tbody tr th {\n",
              "        vertical-align: top;\n",
              "    }\n",
              "\n",
              "    .dataframe thead th {\n",
              "        text-align: right;\n",
              "    }\n",
              "</style>\n",
              "<table border=\"1\" class=\"dataframe\">\n",
              "  <thead>\n",
              "    <tr style=\"text-align: right;\">\n",
              "      <th></th>\n",
              "      <th>frequency</th>\n",
              "    </tr>\n",
              "    <tr>\n",
              "      <th>date</th>\n",
              "      <th></th>\n",
              "    </tr>\n",
              "  </thead>\n",
              "  <tbody>\n",
              "    <tr>\n",
              "      <th>2018-09-06</th>\n",
              "      <td>1</td>\n",
              "    </tr>\n",
              "    <tr>\n",
              "      <th>2018-09-09</th>\n",
              "      <td>10</td>\n",
              "    </tr>\n",
              "    <tr>\n",
              "      <th>2018-09-10</th>\n",
              "      <td>2</td>\n",
              "    </tr>\n",
              "    <tr>\n",
              "      <th>2018-09-13</th>\n",
              "      <td>1</td>\n",
              "    </tr>\n",
              "    <tr>\n",
              "      <th>2018-09-16</th>\n",
              "      <td>14</td>\n",
              "    </tr>\n",
              "  </tbody>\n",
              "</table>\n",
              "</div>"
            ],
            "text/plain": [
              "            frequency\n",
              "date                 \n",
              "2018-09-06          1\n",
              "2018-09-09         10\n",
              "2018-09-10          2\n",
              "2018-09-13          1\n",
              "2018-09-16         14"
            ]
          },
          "metadata": {},
          "execution_count": 11
        }
      ]
    },
    {
      "cell_type": "markdown",
      "metadata": {
        "id": "VdtVJyOrlFTv"
      },
      "source": [
        "Let us plot the distribution using a bar plot."
      ]
    },
    {
      "cell_type": "code",
      "metadata": {
        "colab": {
          "base_uri": "https://localhost:8080/",
          "height": 265
        },
        "id": "PgANh-HelFT0",
        "outputId": "b380a601-accc-4829-c9f6-7d3f0867e0c7"
      },
      "source": [
        "# Plotting a bar plot\n",
        "sorted_date_dist.plot(kind='bar', figsize=(20,4))"
      ],
      "execution_count": 12,
      "outputs": [
        {
          "output_type": "execute_result",
          "data": {
            "text/plain": [
              "<matplotlib.axes._subplots.AxesSubplot at 0x7f9fee7e7850>"
            ]
          },
          "metadata": {},
          "execution_count": 12
        },
        {
          "output_type": "display_data",
          "data": {
            "image/png": "[encoded data removed]",
            "text/plain": [
              "<Figure size 1440x288 with 1 Axes>"
            ]
          },
          "metadata": {
            "needs_background": "light"
          }
        }
      ]
    },
    {
      "cell_type": "markdown",
      "metadata": {
        "id": "7sRHkAnslFT5"
      },
      "source": [
        "We can do the same analysis for the time, day and week as well. So, let us convert our code to a Python function."
      ]
    },
    {
      "cell_type": "code",
      "metadata": {
        "scrolled": true,
        "colab": {
          "base_uri": "https://localhost:8080/",
          "height": 265
        },
        "id": "fEcmO0DRlFT-",
        "outputId": "13eafb36-321f-4cee-cfca-902466cd162b"
      },
      "source": [
        "def find_dist(df, col_name):\n",
        "    \n",
        "    # Checking the frequency of games in relation to the column values\n",
        "    dist = df[col_name].value_counts().reset_index()\n",
        "    \n",
        "    # Renaming the columns\n",
        "    dist.columns = [col_name, 'frequency']\n",
        "        \n",
        "    # Sorting the DataFrame based on the column values\n",
        "    sorted_dist = dist.sort_values(col_name, ascending=True).set_index(col_name)\n",
        "\n",
        "    # Plotting a bar plot\n",
        "    sorted_dist.plot(kind='bar', figsize=(20,4))\n",
        "\n",
        "    # Return a boolean indicating the function was successfully executed\n",
        "    return True\n",
        "\n",
        "# Visualizing the frequency distribution of games in relation to the date\n",
        "find_dist(games_df, 'gameDate')"
      ],
      "execution_count": 13,
      "outputs": [
        {
          "output_type": "execute_result",
          "data": {
            "text/plain": [
              "True"
            ]
          },
          "metadata": {},
          "execution_count": 13
        },
        {
          "output_type": "display_data",
          "data": {
            "image/png": "[encoded data removed]",
            "text/plain": [
              "<Figure size 1440x288 with 1 Axes>"
            ]
          },
          "metadata": {
            "needs_background": "light"
          }
        }
      ]
    },
    {
      "cell_type": "markdown",
      "metadata": {
        "id": "vAo7MGGBlFUC"
      },
      "source": [
        "Let us visualize the frequency distribution of games in relation to time and week number."
      ]
    },
    {
      "cell_type": "code",
      "metadata": {
        "colab": {
          "base_uri": "https://localhost:8080/",
          "height": 204
        },
        "id": "S5p-dc5WlFUD",
        "outputId": "aef87905-577b-4419-ccbd-1bc87656c262"
      },
      "source": [
        "# Looking at the first five rows\n",
        "games_df.head()"
      ],
      "execution_count": 14,
      "outputs": [
        {
          "output_type": "execute_result",
          "data": {
            "text/html": [
              "<div>\n",
              "<style scoped>\n",
              "    .dataframe tbody tr th:only-of-type {\n",
              "        vertical-align: middle;\n",
              "    }\n",
              "\n",
              "    .dataframe tbody tr th {\n",
              "        vertical-align: top;\n",
              "    }\n",
              "\n",
              "    .dataframe thead th {\n",
              "        text-align: right;\n",
              "    }\n",
              "</style>\n",
              "<table border=\"1\" class=\"dataframe\">\n",
              "  <thead>\n",
              "    <tr style=\"text-align: right;\">\n",
              "      <th></th>\n",
              "      <th>gameId</th>\n",
              "      <th>gameDate</th>\n",
              "      <th>gameTimeEastern</th>\n",
              "      <th>homeTeamAbbr</th>\n",
              "      <th>visitorTeamAbbr</th>\n",
              "      <th>week</th>\n",
              "    </tr>\n",
              "  </thead>\n",
              "  <tbody>\n",
              "    <tr>\n",
              "      <th>0</th>\n",
              "      <td>2018090600</td>\n",
              "      <td>2018-09-06</td>\n",
              "      <td>20:20:00</td>\n",
              "      <td>PHI</td>\n",
              "      <td>ATL</td>\n",
              "      <td>1</td>\n",
              "    </tr>\n",
              "    <tr>\n",
              "      <th>1</th>\n",
              "      <td>2018090901</td>\n",
              "      <td>2018-09-09</td>\n",
              "      <td>13:00:00</td>\n",
              "      <td>CLE</td>\n",
              "      <td>PIT</td>\n",
              "      <td>1</td>\n",
              "    </tr>\n",
              "    <tr>\n",
              "      <th>2</th>\n",
              "      <td>2018090902</td>\n",
              "      <td>2018-09-09</td>\n",
              "      <td>13:00:00</td>\n",
              "      <td>IND</td>\n",
              "      <td>CIN</td>\n",
              "      <td>1</td>\n",
              "    </tr>\n",
              "    <tr>\n",
              "      <th>3</th>\n",
              "      <td>2018090903</td>\n",
              "      <td>2018-09-09</td>\n",
              "      <td>13:00:00</td>\n",
              "      <td>MIA</td>\n",
              "      <td>TEN</td>\n",
              "      <td>1</td>\n",
              "    </tr>\n",
              "    <tr>\n",
              "      <th>4</th>\n",
              "      <td>2018090900</td>\n",
              "      <td>2018-09-09</td>\n",
              "      <td>13:00:00</td>\n",
              "      <td>BAL</td>\n",
              "      <td>BUF</td>\n",
              "      <td>1</td>\n",
              "    </tr>\n",
              "  </tbody>\n",
              "</table>\n",
              "</div>"
            ],
            "text/plain": [
              "       gameId    gameDate gameTimeEastern homeTeamAbbr visitorTeamAbbr  week\n",
              "0  2018090600  2018-09-06        20:20:00          PHI             ATL     1\n",
              "1  2018090901  2018-09-09        13:00:00          CLE             PIT     1\n",
              "2  2018090902  2018-09-09        13:00:00          IND             CIN     1\n",
              "3  2018090903  2018-09-09        13:00:00          MIA             TEN     1\n",
              "4  2018090900  2018-09-09        13:00:00          BAL             BUF     1"
            ]
          },
          "metadata": {},
          "execution_count": 14
        }
      ]
    },
    {
      "cell_type": "code",
      "metadata": {
        "colab": {
          "base_uri": "https://localhost:8080/",
          "height": 254
        },
        "id": "Q3NMUFPhlFUH",
        "outputId": "ebbc04f9-5afa-4872-8300-1c71a66e2aa9"
      },
      "source": [
        "# Visualizing frequency distribution of games in relation to the time\n",
        "find_dist(games_df, 'gameTimeEastern')"
      ],
      "execution_count": 15,
      "outputs": [
        {
          "output_type": "execute_result",
          "data": {
            "text/plain": [
              "True"
            ]
          },
          "metadata": {},
          "execution_count": 15
        },
        {
          "output_type": "display_data",
          "data": {
            "image/png": "[encoded data removed]",
            "text/plain": [
              "<Figure size 1440x288 with 1 Axes>"
            ]
          },
          "metadata": {
            "needs_background": "light"
          }
        }
      ]
    },
    {
      "cell_type": "code",
      "metadata": {
        "colab": {
          "base_uri": "https://localhost:8080/",
          "height": 231
        },
        "id": "Z-iRTeA3lFUL",
        "outputId": "3b3b2726-d50d-4664-a861-45d5e7dd8516"
      },
      "source": [
        "# Visualizing frequency distribution of games in relation to the week\n",
        "find_dist(games_df, 'week')"
      ],
      "execution_count": 16,
      "outputs": [
        {
          "output_type": "execute_result",
          "data": {
            "text/plain": [
              "True"
            ]
          },
          "metadata": {},
          "execution_count": 16
        },
        {
          "output_type": "display_data",
          "data": {
            "image/png": "[encoded data removed]",
            "text/plain": [
              "<Figure size 1440x288 with 1 Axes>"
            ]
          },
          "metadata": {
            "needs_background": "light"
          }
        }
      ]
    },
    {
      "cell_type": "markdown",
      "metadata": {
        "id": "96ieAUEqlFUO"
      },
      "source": [
        "Finally, let us look at how the games are distributed in relation to the game days. For this, we will have to convert the dates to which day they fall in the week. "
      ]
    },
    {
      "cell_type": "code",
      "metadata": {
        "colab": {
          "base_uri": "https://localhost:8080/",
          "height": 204
        },
        "id": "X2z3TnoSlFUP",
        "outputId": "78ca306d-b335-44c6-8c98-5f828d2318e7"
      },
      "source": [
        "# Looking at the first five rows\n",
        "games_df.head()"
      ],
      "execution_count": 17,
      "outputs": [
        {
          "output_type": "execute_result",
          "data": {
            "text/html": [
              "<div>\n",
              "<style scoped>\n",
              "    .dataframe tbody tr th:only-of-type {\n",
              "        vertical-align: middle;\n",
              "    }\n",
              "\n",
              "    .dataframe tbody tr th {\n",
              "        vertical-align: top;\n",
              "    }\n",
              "\n",
              "    .dataframe thead th {\n",
              "        text-align: right;\n",
              "    }\n",
              "</style>\n",
              "<table border=\"1\" class=\"dataframe\">\n",
              "  <thead>\n",
              "    <tr style=\"text-align: right;\">\n",
              "      <th></th>\n",
              "      <th>gameId</th>\n",
              "      <th>gameDate</th>\n",
              "      <th>gameTimeEastern</th>\n",
              "      <th>homeTeamAbbr</th>\n",
              "      <th>visitorTeamAbbr</th>\n",
              "      <th>week</th>\n",
              "    </tr>\n",
              "  </thead>\n",
              "  <tbody>\n",
              "    <tr>\n",
              "      <th>0</th>\n",
              "      <td>2018090600</td>\n",
              "      <td>2018-09-06</td>\n",
              "      <td>20:20:00</td>\n",
              "      <td>PHI</td>\n",
              "      <td>ATL</td>\n",
              "      <td>1</td>\n",
              "    </tr>\n",
              "    <tr>\n",
              "      <th>1</th>\n",
              "      <td>2018090901</td>\n",
              "      <td>2018-09-09</td>\n",
              "      <td>13:00:00</td>\n",
              "      <td>CLE</td>\n",
              "      <td>PIT</td>\n",
              "      <td>1</td>\n",
              "    </tr>\n",
              "    <tr>\n",
              "      <th>2</th>\n",
              "      <td>2018090902</td>\n",
              "      <td>2018-09-09</td>\n",
              "      <td>13:00:00</td>\n",
              "      <td>IND</td>\n",
              "      <td>CIN</td>\n",
              "      <td>1</td>\n",
              "    </tr>\n",
              "    <tr>\n",
              "      <th>3</th>\n",
              "      <td>2018090903</td>\n",
              "      <td>2018-09-09</td>\n",
              "      <td>13:00:00</td>\n",
              "      <td>MIA</td>\n",
              "      <td>TEN</td>\n",
              "      <td>1</td>\n",
              "    </tr>\n",
              "    <tr>\n",
              "      <th>4</th>\n",
              "      <td>2018090900</td>\n",
              "      <td>2018-09-09</td>\n",
              "      <td>13:00:00</td>\n",
              "      <td>BAL</td>\n",
              "      <td>BUF</td>\n",
              "      <td>1</td>\n",
              "    </tr>\n",
              "  </tbody>\n",
              "</table>\n",
              "</div>"
            ],
            "text/plain": [
              "       gameId    gameDate gameTimeEastern homeTeamAbbr visitorTeamAbbr  week\n",
              "0  2018090600  2018-09-06        20:20:00          PHI             ATL     1\n",
              "1  2018090901  2018-09-09        13:00:00          CLE             PIT     1\n",
              "2  2018090902  2018-09-09        13:00:00          IND             CIN     1\n",
              "3  2018090903  2018-09-09        13:00:00          MIA             TEN     1\n",
              "4  2018090900  2018-09-09        13:00:00          BAL             BUF     1"
            ]
          },
          "metadata": {},
          "execution_count": 17
        }
      ]
    },
    {
      "cell_type": "code",
      "metadata": {
        "colab": {
          "base_uri": "https://localhost:8080/",
          "height": 204
        },
        "id": "bq2vK3rslFUR",
        "outputId": "e1361767-76f7-4adf-e88e-ba59703484ec"
      },
      "source": [
        "# Creating a column containing the day of the week information extracted from the date\n",
        "games_df['gameDay'] = games_df['gameDate'].apply(lambda x: x.strftime('%A'))\n",
        "\n",
        "# Looking at the first five rows\n",
        "games_df.head()"
      ],
      "execution_count": 18,
      "outputs": [
        {
          "output_type": "execute_result",
          "data": {
            "text/html": [
              "<div>\n",
              "<style scoped>\n",
              "    .dataframe tbody tr th:only-of-type {\n",
              "        vertical-align: middle;\n",
              "    }\n",
              "\n",
              "    .dataframe tbody tr th {\n",
              "        vertical-align: top;\n",
              "    }\n",
              "\n",
              "    .dataframe thead th {\n",
              "        text-align: right;\n",
              "    }\n",
              "</style>\n",
              "<table border=\"1\" class=\"dataframe\">\n",
              "  <thead>\n",
              "    <tr style=\"text-align: right;\">\n",
              "      <th></th>\n",
              "      <th>gameId</th>\n",
              "      <th>gameDate</th>\n",
              "      <th>gameTimeEastern</th>\n",
              "      <th>homeTeamAbbr</th>\n",
              "      <th>visitorTeamAbbr</th>\n",
              "      <th>week</th>\n",
              "      <th>gameDay</th>\n",
              "    </tr>\n",
              "  </thead>\n",
              "  <tbody>\n",
              "    <tr>\n",
              "      <th>0</th>\n",
              "      <td>2018090600</td>\n",
              "      <td>2018-09-06</td>\n",
              "      <td>20:20:00</td>\n",
              "      <td>PHI</td>\n",
              "      <td>ATL</td>\n",
              "      <td>1</td>\n",
              "      <td>Thursday</td>\n",
              "    </tr>\n",
              "    <tr>\n",
              "      <th>1</th>\n",
              "      <td>2018090901</td>\n",
              "      <td>2018-09-09</td>\n",
              "      <td>13:00:00</td>\n",
              "      <td>CLE</td>\n",
              "      <td>PIT</td>\n",
              "      <td>1</td>\n",
              "      <td>Sunday</td>\n",
              "    </tr>\n",
              "    <tr>\n",
              "      <th>2</th>\n",
              "      <td>2018090902</td>\n",
              "      <td>2018-09-09</td>\n",
              "      <td>13:00:00</td>\n",
              "      <td>IND</td>\n",
              "      <td>CIN</td>\n",
              "      <td>1</td>\n",
              "      <td>Sunday</td>\n",
              "    </tr>\n",
              "    <tr>\n",
              "      <th>3</th>\n",
              "      <td>2018090903</td>\n",
              "      <td>2018-09-09</td>\n",
              "      <td>13:00:00</td>\n",
              "      <td>MIA</td>\n",
              "      <td>TEN</td>\n",
              "      <td>1</td>\n",
              "      <td>Sunday</td>\n",
              "    </tr>\n",
              "    <tr>\n",
              "      <th>4</th>\n",
              "      <td>2018090900</td>\n",
              "      <td>2018-09-09</td>\n",
              "      <td>13:00:00</td>\n",
              "      <td>BAL</td>\n",
              "      <td>BUF</td>\n",
              "      <td>1</td>\n",
              "      <td>Sunday</td>\n",
              "    </tr>\n",
              "  </tbody>\n",
              "</table>\n",
              "</div>"
            ],
            "text/plain": [
              "       gameId    gameDate gameTimeEastern  ... visitorTeamAbbr week   gameDay\n",
              "0  2018090600  2018-09-06        20:20:00  ...             ATL    1  Thursday\n",
              "1  2018090901  2018-09-09        13:00:00  ...             PIT    1    Sunday\n",
              "2  2018090902  2018-09-09        13:00:00  ...             CIN    1    Sunday\n",
              "3  2018090903  2018-09-09        13:00:00  ...             TEN    1    Sunday\n",
              "4  2018090900  2018-09-09        13:00:00  ...             BUF    1    Sunday\n",
              "\n",
              "[5 rows x 7 columns]"
            ]
          },
          "metadata": {},
          "execution_count": 18
        }
      ]
    },
    {
      "cell_type": "markdown",
      "metadata": {
        "id": "WMRN6zHclFUX"
      },
      "source": [
        "Visualizing the game distribution in relation to the game day. "
      ]
    },
    {
      "cell_type": "code",
      "metadata": {
        "colab": {
          "base_uri": "https://localhost:8080/",
          "height": 256
        },
        "id": "cqxsEZsclFUZ",
        "outputId": "87c1dda7-bc63-4c52-9f1f-1d52f703bb36"
      },
      "source": [
        "# Visualizing frequency distribution of games in relation to the day of the week\n",
        "find_dist(games_df, 'gameDay')"
      ],
      "execution_count": 19,
      "outputs": [
        {
          "output_type": "execute_result",
          "data": {
            "text/plain": [
              "True"
            ]
          },
          "metadata": {},
          "execution_count": 19
        },
        {
          "output_type": "display_data",
          "data": {
            "image/png": "[encoded data removed]",
            "text/plain": [
              "<Figure size 1440x288 with 1 Axes>"
            ]
          },
          "metadata": {
            "needs_background": "light"
          }
        }
      ]
    }
  ]
}