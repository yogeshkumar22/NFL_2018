{
  "nbformat": 4,
  "nbformat_minor": 0,
  "metadata": {
    "kernelspec": {
      "display_name": "Python 3",
      "language": "python",
      "name": "python3"
    },
    "language_info": {
      "codemirror_mode": {
        "name": "ipython",
        "version": 3
      },
      "file_extension": ".py",
      "mimetype": "text/x-python",
      "name": "python",
      "nbconvert_exporter": "python",
      "pygments_lexer": "ipython3",
      "version": "3.8.6"
    },
    "colab": {
      "name": "Visualizing players onto the field.ipynb",
      "provenance": [],
      "include_colab_link": true
    }
  },
  "cells": [
    {
      "cell_type": "markdown",
      "metadata": {
        "id": "view-in-github",
        "colab_type": "text"
      },
      "source": [
        "<a href=\"https://colab.research.google.com/github/yogeshkumar22/NFL_2018/blob/main/Adding%20Players%20onto%20the%20Field/Visualizing_players_onto_the_field.ipynb\" target=\"_parent\"><img src=\"https://colab.research.google.com/assets/colab-badge.svg\" alt=\"Open In Colab\"/></a>"
      ]
    },
    {
      "cell_type": "markdown",
      "metadata": {
        "id": "s1crxtsn0HgN"
      },
      "source": [
        "# Visualizing Players onto the Field"
      ]
    },
    {
      "cell_type": "markdown",
      "metadata": {
        "id": "4R5R-kU_0Hgr"
      },
      "source": [
        "The fourth dataset that we will be looking at is the dataset containing the tracking information of the players. Such kind of datasets are very helpful in breaking down different players gameplays on a personal level.\n",
        "\n",
        "We will be visualizing the players on the field that we had built. "
      ]
    },
    {
      "cell_type": "markdown",
      "metadata": {
        "id": "GabdwyxV0Hgv"
      },
      "source": [
        "This dataset contains the following information:"
      ]
    },
    {
      "cell_type": "markdown",
      "metadata": {
        "id": "EZ22DT_l0Hgy"
      },
      "source": [
        "- time: Time stamp of play (time, yyyy-mm-dd, hh:mm:ss)\n",
        "\n",
        "- x: Player position along the long axis of the field, 0 - 120 yards. See Figure 1 below. (numeric)\n",
        "\n",
        "- y: Player position along the short axis of the field, 0 - 53.3 yards. See Figure 1 below. (numeric)\n",
        "\n",
        "- s: Speed in yards/second (numeric)\n",
        "\n",
        "- a: Acceleration in yards/second^2 (numeric)\n",
        "\n",
        "- dis: Distance traveled from prior time point, in yards (numeric)\n",
        "\n",
        "- o: Player orientation (deg), 0 - 360 degrees (numeric)\n",
        "\n",
        "- dir: Angle of player motion (deg), 0 - 360 degrees (numeric)\n",
        "\n",
        "- event: Tagged play details, including moment of ball snap, pass release, pass catch, tackle, etc (text)\n",
        "\n",
        "- nflId: Player identification number, unique across players (numeric)\n",
        "\n",
        "- displayName: Player name (text)\n",
        "\n",
        "- jerseyNumber: Jersey number of player (numeric)\n",
        "\n",
        "- position: Player position group (text)\n",
        "\n",
        "- team: Team (away or home) of corresponding player (text)\n",
        "\n",
        "- frameId: Frame identifier for each play, starting at 1 (numeric)\n",
        "\n",
        "- gameId: Game identifier, unique (numeric)\n",
        "\n",
        "- playId: Play identifier, not unique across games (numeric)\n",
        "\n",
        "- playDirection: Direction that the offense is moving (text, left or right)\n",
        "\n",
        "- route: Route ran by offensive player (text)"
      ]
    },
    {
      "cell_type": "markdown",
      "metadata": {
        "id": "ZLaiN8qh0Hg2"
      },
      "source": [
        "Let us start by importing the necessary modules,"
      ]
    },
    {
      "cell_type": "code",
      "metadata": {
        "id": "FBpGh5Em0Hg5"
      },
      "source": [
        "import pandas as pd\n",
        "import matplotlib.pyplot as plt\n",
        "import matplotlib.patches as patches\n",
        "\n",
        "%matplotlib inline"
      ],
      "execution_count": 1,
      "outputs": []
    },
    {
      "cell_type": "code",
      "metadata": {
        "id": "NLv2t8ii0HhA"
      },
      "source": [
        "def create_football_field():\n",
        "    \n",
        "    # Create a rectangle defined via an anchor point *xy* and its *width* and *height*\n",
        "    rect = patches.Rectangle((0, 0), 120, 53.3, facecolor='darkgreen', zorder=0)\n",
        "\n",
        "    # Creating a subplot to plot our field on\n",
        "    fig, ax = plt.subplots(1, figsize=(12, 6.33))\n",
        "\n",
        "    # Adding the rectangle to the plot\n",
        "    ax.add_patch(rect)\n",
        "\n",
        "    # Plotting a line plot for marking the field lines\n",
        "    plt.plot([10, 10, 20, 20, 30, 30, 40, 40, 50, 50, 60, 60, 70, 70, 80,\n",
        "              80, 90, 90, 100, 100, 110, 110, 120, 0, 0, 120, 120],\n",
        "             [0, 53.3, 53.3, 0, 0, 53.3, 53.3, 0, 0, 53.3, 53.3, 0, 0, 53.3, 53.3, \n",
        "              0, 0, 53.3, 53.3, 0, 0, 53.3, 53.3, 53.3, 0, 0, 53.3],\n",
        "             color='white', zorder = 0)\n",
        "\n",
        "    # Creating the left end-zone\n",
        "    left_end_zone = patches.Rectangle((0, 0), 10, 53.3, facecolor='blue', alpha=0.2, zorder=0)\n",
        "\n",
        "    # Creating the right end-zone\n",
        "    right_end_zone = patches.Rectangle((110, 0), 120, 53.3, facecolor='blue', alpha=0.2, zorder=0)\n",
        "\n",
        "    # Adding the patches to the subplot\n",
        "    ax.add_patch(left_end_zone)\n",
        "    ax.add_patch(right_end_zone)\n",
        "\n",
        "    # Setting the limits of x-axis from 0 to 120\n",
        "    plt.xlim(0, 120)\n",
        "\n",
        "    # Setting the limits of y-axis from -5 to 58.3\n",
        "    plt.ylim(-5, 58.3)\n",
        "\n",
        "    # Removing the axis values from the plot\n",
        "    plt.axis('off')\n",
        "\n",
        "    # Plotting the numbers starting from x = 20 and ending at x = 110\n",
        "    # with a step of 10\n",
        "    for x in range(20, 110, 10):\n",
        "\n",
        "        # Intializing another variable named 'number'\n",
        "        number = x\n",
        "\n",
        "        # If x exceeds 50, subtract it from 120\n",
        "        if x > 50:\n",
        "            number = 120 - x\n",
        "\n",
        "        # Plotting the text at the bottom\n",
        "        plt.text(x, 5, str(number - 10),\n",
        "                 horizontalalignment='center',\n",
        "                 fontsize=20,\n",
        "                 color='white')\n",
        "\n",
        "        # Plotting the text at the top\n",
        "        plt.text(x - 0.95, 53.3 - 5, str(number - 10),\n",
        "                 horizontalalignment='center',\n",
        "                 fontsize=20,\n",
        "                 color='white',\n",
        "                 rotation=180)\n",
        "\n",
        "    # Making ground markings\n",
        "    for x in range(11, 110):\n",
        "            ax.plot([x, x], [0.4, 0.7], color='white', zorder = 0)\n",
        "            ax.plot([x, x], [53.0, 52.5], color='white', zorder = 0)\n",
        "            ax.plot([x, x], [22.91, 23.57], color='white', zorder = 0)\n",
        "            ax.plot([x, x], [29.73, 30.39], color='white', zorder = 0)\n",
        "    \n",
        "    # Returning the figure and axis\n",
        "    return fig, ax"
      ],
      "execution_count": 2,
      "outputs": []
    },
    {
      "cell_type": "code",
      "metadata": {
        "scrolled": true,
        "colab": {
          "base_uri": "https://localhost:8080/",
          "height": 375
        },
        "id": "nly9GCr-0HhI",
        "outputId": "c31dd7a3-104e-4cf9-b998-2e1d19cb41d7"
      },
      "source": [
        "# Calling the plotting function\n",
        "fig, ax = create_football_field()\n",
        "\n",
        "# Plotting the figure\n",
        "plt.show()"
      ],
      "execution_count": 3,
      "outputs": [
        {
          "output_type": "display_data",
          "data": {
            "image/png": "[encoded data removed]",
            "text/plain": [
              "<Figure size 864x455.76 with 1 Axes>"
            ]
          },
          "metadata": {
            "needs_background": "light"
          }
        }
      ]
    },
    {
      "cell_type": "markdown",
      "metadata": {
        "id": "HVy8BY8J0HhR"
      },
      "source": [
        "Next, importing the dataset called `week_data.csv` which contains the tracking information of players."
      ]
    },
    {
      "cell_type": "code",
      "metadata": {
        "id": "_kF1jlnt0HhV"
      },
      "source": [
        "# Reading the data as a Pandas DataFrame\n",
        "df = pd.read_csv('week_data.csv')"
      ],
      "execution_count": 4,
      "outputs": []
    },
    {
      "cell_type": "code",
      "metadata": {
        "colab": {
          "base_uri": "https://localhost:8080/",
          "height": 309
        },
        "id": "94KM8zSx0HhX",
        "outputId": "05f9d478-9472-4d2f-bbf7-de83f5ab0511"
      },
      "source": [
        "# Looking at the first five rows of the DataFrame \n",
        "df.head()"
      ],
      "execution_count": 5,
      "outputs": [
        {
          "output_type": "execute_result",
          "data": {
            "text/html": [
              "<div>\n",
              "<style scoped>\n",
              "    .dataframe tbody tr th:only-of-type {\n",
              "        vertical-align: middle;\n",
              "    }\n",
              "\n",
              "    .dataframe tbody tr th {\n",
              "        vertical-align: top;\n",
              "    }\n",
              "\n",
              "    .dataframe thead th {\n",
              "        text-align: right;\n",
              "    }\n",
              "</style>\n",
              "<table border=\"1\" class=\"dataframe\">\n",
              "  <thead>\n",
              "    <tr style=\"text-align: right;\">\n",
              "      <th></th>\n",
              "      <th>time</th>\n",
              "      <th>x</th>\n",
              "      <th>y</th>\n",
              "      <th>s</th>\n",
              "      <th>a</th>\n",
              "      <th>dis</th>\n",
              "      <th>o</th>\n",
              "      <th>dir</th>\n",
              "      <th>event</th>\n",
              "      <th>nflId</th>\n",
              "      <th>displayName</th>\n",
              "      <th>jerseyNumber</th>\n",
              "      <th>position</th>\n",
              "      <th>frameId</th>\n",
              "      <th>team</th>\n",
              "      <th>gameId</th>\n",
              "      <th>playId</th>\n",
              "      <th>playDirection</th>\n",
              "      <th>route</th>\n",
              "    </tr>\n",
              "  </thead>\n",
              "  <tbody>\n",
              "    <tr>\n",
              "      <th>0</th>\n",
              "      <td>2018-11-16T01:24:15.799Z</td>\n",
              "      <td>77.97</td>\n",
              "      <td>18.61</td>\n",
              "      <td>0.00</td>\n",
              "      <td>0.00</td>\n",
              "      <td>0.00</td>\n",
              "      <td>109.88</td>\n",
              "      <td>289.98</td>\n",
              "      <td>None</td>\n",
              "      <td>497236.0</td>\n",
              "      <td>Jimmy Graham</td>\n",
              "      <td>80.0</td>\n",
              "      <td>TE</td>\n",
              "      <td>1</td>\n",
              "      <td>away</td>\n",
              "      <td>2018111500</td>\n",
              "      <td>90</td>\n",
              "      <td>right</td>\n",
              "      <td>CROSS</td>\n",
              "    </tr>\n",
              "    <tr>\n",
              "      <th>1</th>\n",
              "      <td>2018-11-16T01:24:15.799Z</td>\n",
              "      <td>79.41</td>\n",
              "      <td>23.71</td>\n",
              "      <td>0.00</td>\n",
              "      <td>0.00</td>\n",
              "      <td>0.00</td>\n",
              "      <td>90.31</td>\n",
              "      <td>159.68</td>\n",
              "      <td>None</td>\n",
              "      <td>2506363.0</td>\n",
              "      <td>Aaron Rodgers</td>\n",
              "      <td>12.0</td>\n",
              "      <td>QB</td>\n",
              "      <td>1</td>\n",
              "      <td>away</td>\n",
              "      <td>2018111500</td>\n",
              "      <td>90</td>\n",
              "      <td>right</td>\n",
              "      <td>NaN</td>\n",
              "    </tr>\n",
              "    <tr>\n",
              "      <th>2</th>\n",
              "      <td>2018-11-16T01:24:15.799Z</td>\n",
              "      <td>85.05</td>\n",
              "      <td>22.71</td>\n",
              "      <td>0.00</td>\n",
              "      <td>0.00</td>\n",
              "      <td>0.00</td>\n",
              "      <td>288.53</td>\n",
              "      <td>141.92</td>\n",
              "      <td>None</td>\n",
              "      <td>2532966.0</td>\n",
              "      <td>Bobby Wagner</td>\n",
              "      <td>54.0</td>\n",
              "      <td>MLB</td>\n",
              "      <td>1</td>\n",
              "      <td>home</td>\n",
              "      <td>2018111500</td>\n",
              "      <td>90</td>\n",
              "      <td>right</td>\n",
              "      <td>NaN</td>\n",
              "    </tr>\n",
              "    <tr>\n",
              "      <th>3</th>\n",
              "      <td>2018-11-16T01:24:15.799Z</td>\n",
              "      <td>84.81</td>\n",
              "      <td>17.84</td>\n",
              "      <td>0.01</td>\n",
              "      <td>0.01</td>\n",
              "      <td>0.01</td>\n",
              "      <td>283.13</td>\n",
              "      <td>295.48</td>\n",
              "      <td>None</td>\n",
              "      <td>2539243.0</td>\n",
              "      <td>Bradley McDougald</td>\n",
              "      <td>30.0</td>\n",
              "      <td>SS</td>\n",
              "      <td>1</td>\n",
              "      <td>home</td>\n",
              "      <td>2018111500</td>\n",
              "      <td>90</td>\n",
              "      <td>right</td>\n",
              "      <td>NaN</td>\n",
              "    </tr>\n",
              "    <tr>\n",
              "      <th>4</th>\n",
              "      <td>2018-11-16T01:24:15.799Z</td>\n",
              "      <td>85.35</td>\n",
              "      <td>27.05</td>\n",
              "      <td>0.00</td>\n",
              "      <td>0.00</td>\n",
              "      <td>0.00</td>\n",
              "      <td>251.12</td>\n",
              "      <td>350.19</td>\n",
              "      <td>None</td>\n",
              "      <td>2540140.0</td>\n",
              "      <td>Barkevious Mingo</td>\n",
              "      <td>51.0</td>\n",
              "      <td>OLB</td>\n",
              "      <td>1</td>\n",
              "      <td>home</td>\n",
              "      <td>2018111500</td>\n",
              "      <td>90</td>\n",
              "      <td>right</td>\n",
              "      <td>NaN</td>\n",
              "    </tr>\n",
              "  </tbody>\n",
              "</table>\n",
              "</div>"
            ],
            "text/plain": [
              "                       time      x      y  ...  playId  playDirection  route\n",
              "0  2018-11-16T01:24:15.799Z  77.97  18.61  ...      90          right  CROSS\n",
              "1  2018-11-16T01:24:15.799Z  79.41  23.71  ...      90          right    NaN\n",
              "2  2018-11-16T01:24:15.799Z  85.05  22.71  ...      90          right    NaN\n",
              "3  2018-11-16T01:24:15.799Z  84.81  17.84  ...      90          right    NaN\n",
              "4  2018-11-16T01:24:15.799Z  85.35  27.05  ...      90          right    NaN\n",
              "\n",
              "[5 rows x 19 columns]"
            ]
          },
          "metadata": {},
          "execution_count": 5
        }
      ]
    },
    {
      "cell_type": "code",
      "metadata": {
        "colab": {
          "base_uri": "https://localhost:8080/"
        },
        "id": "1DAExmEr0HhZ",
        "outputId": "425acac7-3dff-47fc-9b1d-3065a913ff3a"
      },
      "source": [
        "# Looking at the shape of the DataFrame\n",
        "df.shape"
      ],
      "execution_count": 6,
      "outputs": [
        {
          "output_type": "execute_result",
          "data": {
            "text/plain": [
              "(932240, 19)"
            ]
          },
          "metadata": {},
          "execution_count": 6
        }
      ]
    },
    {
      "cell_type": "markdown",
      "metadata": {
        "id": "Ih2VnkK50Hhc"
      },
      "source": [
        "Since the time is in an improper format for analysis, let us convert it to datetime."
      ]
    },
    {
      "cell_type": "code",
      "metadata": {
        "colab": {
          "base_uri": "https://localhost:8080/",
          "height": 309
        },
        "id": "e7EGPL_q0Hhe",
        "outputId": "cb686496-e9d0-45e0-9795-3d515358668a"
      },
      "source": [
        "# Converting to Time values\n",
        "df['time'] = pd.to_datetime(df['time']).dt.time\n",
        "\n",
        "# Looking at the first five rows of the DataFrame \n",
        "df.head()"
      ],
      "execution_count": 7,
      "outputs": [
        {
          "output_type": "execute_result",
          "data": {
            "text/html": [
              "<div>\n",
              "<style scoped>\n",
              "    .dataframe tbody tr th:only-of-type {\n",
              "        vertical-align: middle;\n",
              "    }\n",
              "\n",
              "    .dataframe tbody tr th {\n",
              "        vertical-align: top;\n",
              "    }\n",
              "\n",
              "    .dataframe thead th {\n",
              "        text-align: right;\n",
              "    }\n",
              "</style>\n",
              "<table border=\"1\" class=\"dataframe\">\n",
              "  <thead>\n",
              "    <tr style=\"text-align: right;\">\n",
              "      <th></th>\n",
              "      <th>time</th>\n",
              "      <th>x</th>\n",
              "      <th>y</th>\n",
              "      <th>s</th>\n",
              "      <th>a</th>\n",
              "      <th>dis</th>\n",
              "      <th>o</th>\n",
              "      <th>dir</th>\n",
              "      <th>event</th>\n",
              "      <th>nflId</th>\n",
              "      <th>displayName</th>\n",
              "      <th>jerseyNumber</th>\n",
              "      <th>position</th>\n",
              "      <th>frameId</th>\n",
              "      <th>team</th>\n",
              "      <th>gameId</th>\n",
              "      <th>playId</th>\n",
              "      <th>playDirection</th>\n",
              "      <th>route</th>\n",
              "    </tr>\n",
              "  </thead>\n",
              "  <tbody>\n",
              "    <tr>\n",
              "      <th>0</th>\n",
              "      <td>01:24:15.799000</td>\n",
              "      <td>77.97</td>\n",
              "      <td>18.61</td>\n",
              "      <td>0.00</td>\n",
              "      <td>0.00</td>\n",
              "      <td>0.00</td>\n",
              "      <td>109.88</td>\n",
              "      <td>289.98</td>\n",
              "      <td>None</td>\n",
              "      <td>497236.0</td>\n",
              "      <td>Jimmy Graham</td>\n",
              "      <td>80.0</td>\n",
              "      <td>TE</td>\n",
              "      <td>1</td>\n",
              "      <td>away</td>\n",
              "      <td>2018111500</td>\n",
              "      <td>90</td>\n",
              "      <td>right</td>\n",
              "      <td>CROSS</td>\n",
              "    </tr>\n",
              "    <tr>\n",
              "      <th>1</th>\n",
              "      <td>01:24:15.799000</td>\n",
              "      <td>79.41</td>\n",
              "      <td>23.71</td>\n",
              "      <td>0.00</td>\n",
              "      <td>0.00</td>\n",
              "      <td>0.00</td>\n",
              "      <td>90.31</td>\n",
              "      <td>159.68</td>\n",
              "      <td>None</td>\n",
              "      <td>2506363.0</td>\n",
              "      <td>Aaron Rodgers</td>\n",
              "      <td>12.0</td>\n",
              "      <td>QB</td>\n",
              "      <td>1</td>\n",
              "      <td>away</td>\n",
              "      <td>2018111500</td>\n",
              "      <td>90</td>\n",
              "      <td>right</td>\n",
              "      <td>NaN</td>\n",
              "    </tr>\n",
              "    <tr>\n",
              "      <th>2</th>\n",
              "      <td>01:24:15.799000</td>\n",
              "      <td>85.05</td>\n",
              "      <td>22.71</td>\n",
              "      <td>0.00</td>\n",
              "      <td>0.00</td>\n",
              "      <td>0.00</td>\n",
              "      <td>288.53</td>\n",
              "      <td>141.92</td>\n",
              "      <td>None</td>\n",
              "      <td>2532966.0</td>\n",
              "      <td>Bobby Wagner</td>\n",
              "      <td>54.0</td>\n",
              "      <td>MLB</td>\n",
              "      <td>1</td>\n",
              "      <td>home</td>\n",
              "      <td>2018111500</td>\n",
              "      <td>90</td>\n",
              "      <td>right</td>\n",
              "      <td>NaN</td>\n",
              "    </tr>\n",
              "    <tr>\n",
              "      <th>3</th>\n",
              "      <td>01:24:15.799000</td>\n",
              "      <td>84.81</td>\n",
              "      <td>17.84</td>\n",
              "      <td>0.01</td>\n",
              "      <td>0.01</td>\n",
              "      <td>0.01</td>\n",
              "      <td>283.13</td>\n",
              "      <td>295.48</td>\n",
              "      <td>None</td>\n",
              "      <td>2539243.0</td>\n",
              "      <td>Bradley McDougald</td>\n",
              "      <td>30.0</td>\n",
              "      <td>SS</td>\n",
              "      <td>1</td>\n",
              "      <td>home</td>\n",
              "      <td>2018111500</td>\n",
              "      <td>90</td>\n",
              "      <td>right</td>\n",
              "      <td>NaN</td>\n",
              "    </tr>\n",
              "    <tr>\n",
              "      <th>4</th>\n",
              "      <td>01:24:15.799000</td>\n",
              "      <td>85.35</td>\n",
              "      <td>27.05</td>\n",
              "      <td>0.00</td>\n",
              "      <td>0.00</td>\n",
              "      <td>0.00</td>\n",
              "      <td>251.12</td>\n",
              "      <td>350.19</td>\n",
              "      <td>None</td>\n",
              "      <td>2540140.0</td>\n",
              "      <td>Barkevious Mingo</td>\n",
              "      <td>51.0</td>\n",
              "      <td>OLB</td>\n",
              "      <td>1</td>\n",
              "      <td>home</td>\n",
              "      <td>2018111500</td>\n",
              "      <td>90</td>\n",
              "      <td>right</td>\n",
              "      <td>NaN</td>\n",
              "    </tr>\n",
              "  </tbody>\n",
              "</table>\n",
              "</div>"
            ],
            "text/plain": [
              "              time      x      y     s  ...      gameId  playId  playDirection  route\n",
              "0  01:24:15.799000  77.97  18.61  0.00  ...  2018111500      90          right  CROSS\n",
              "1  01:24:15.799000  79.41  23.71  0.00  ...  2018111500      90          right    NaN\n",
              "2  01:24:15.799000  85.05  22.71  0.00  ...  2018111500      90          right    NaN\n",
              "3  01:24:15.799000  84.81  17.84  0.01  ...  2018111500      90          right    NaN\n",
              "4  01:24:15.799000  85.35  27.05  0.00  ...  2018111500      90          right    NaN\n",
              "\n",
              "[5 rows x 19 columns]"
            ]
          },
          "metadata": {},
          "execution_count": 7
        }
      ]
    },
    {
      "cell_type": "markdown",
      "metadata": {
        "id": "_yyrFv2J0Hhi"
      },
      "source": [
        "We would want to analyze each game by the passage of time, so let us sort the values to be ascending."
      ]
    },
    {
      "cell_type": "code",
      "metadata": {
        "colab": {
          "base_uri": "https://localhost:8080/",
          "height": 241
        },
        "id": "2aUHQqAz0Hhk",
        "outputId": "243911a8-756a-4f34-8908-8a344dc6f665"
      },
      "source": [
        "# Sorting the values of the DataFrame by time in an ascending order\n",
        "df = df.sort_values(by='time', ascending=True).reset_index(drop=True)\n",
        "\n",
        "# Looking at the first five rows of the DataFrame \n",
        "df.head()"
      ],
      "execution_count": 8,
      "outputs": [
        {
          "output_type": "execute_result",
          "data": {
            "text/html": [
              "<div>\n",
              "<style scoped>\n",
              "    .dataframe tbody tr th:only-of-type {\n",
              "        vertical-align: middle;\n",
              "    }\n",
              "\n",
              "    .dataframe tbody tr th {\n",
              "        vertical-align: top;\n",
              "    }\n",
              "\n",
              "    .dataframe thead th {\n",
              "        text-align: right;\n",
              "    }\n",
              "</style>\n",
              "<table border=\"1\" class=\"dataframe\">\n",
              "  <thead>\n",
              "    <tr style=\"text-align: right;\">\n",
              "      <th></th>\n",
              "      <th>time</th>\n",
              "      <th>x</th>\n",
              "      <th>y</th>\n",
              "      <th>s</th>\n",
              "      <th>a</th>\n",
              "      <th>dis</th>\n",
              "      <th>o</th>\n",
              "      <th>dir</th>\n",
              "      <th>event</th>\n",
              "      <th>nflId</th>\n",
              "      <th>displayName</th>\n",
              "      <th>jerseyNumber</th>\n",
              "      <th>position</th>\n",
              "      <th>frameId</th>\n",
              "      <th>team</th>\n",
              "      <th>gameId</th>\n",
              "      <th>playId</th>\n",
              "      <th>playDirection</th>\n",
              "      <th>route</th>\n",
              "    </tr>\n",
              "  </thead>\n",
              "  <tbody>\n",
              "    <tr>\n",
              "      <th>0</th>\n",
              "      <td>00:00:38.500000</td>\n",
              "      <td>86.80</td>\n",
              "      <td>44.97</td>\n",
              "      <td>0.01</td>\n",
              "      <td>0.01</td>\n",
              "      <td>0.01</td>\n",
              "      <td>265.98</td>\n",
              "      <td>318.85</td>\n",
              "      <td>None</td>\n",
              "      <td>2552600.0</td>\n",
              "      <td>Nelson Agholor</td>\n",
              "      <td>13.0</td>\n",
              "      <td>WR</td>\n",
              "      <td>1</td>\n",
              "      <td>away</td>\n",
              "      <td>2018111809</td>\n",
              "      <td>3294</td>\n",
              "      <td>left</td>\n",
              "      <td>GO</td>\n",
              "    </tr>\n",
              "    <tr>\n",
              "      <th>1</th>\n",
              "      <td>00:00:38.500000</td>\n",
              "      <td>80.39</td>\n",
              "      <td>37.16</td>\n",
              "      <td>0.08</td>\n",
              "      <td>0.23</td>\n",
              "      <td>0.01</td>\n",
              "      <td>89.72</td>\n",
              "      <td>339.97</td>\n",
              "      <td>None</td>\n",
              "      <td>2552484.0</td>\n",
              "      <td>P.J. Williams</td>\n",
              "      <td>26.0</td>\n",
              "      <td>CB</td>\n",
              "      <td>1</td>\n",
              "      <td>home</td>\n",
              "      <td>2018111809</td>\n",
              "      <td>3294</td>\n",
              "      <td>left</td>\n",
              "      <td>NaN</td>\n",
              "    </tr>\n",
              "    <tr>\n",
              "      <th>2</th>\n",
              "      <td>00:00:38.500000</td>\n",
              "      <td>86.34</td>\n",
              "      <td>36.31</td>\n",
              "      <td>0.00</td>\n",
              "      <td>0.00</td>\n",
              "      <td>0.00</td>\n",
              "      <td>285.81</td>\n",
              "      <td>269.36</td>\n",
              "      <td>None</td>\n",
              "      <td>497326.0</td>\n",
              "      <td>Golden Tate</td>\n",
              "      <td>19.0</td>\n",
              "      <td>WR</td>\n",
              "      <td>1</td>\n",
              "      <td>away</td>\n",
              "      <td>2018111809</td>\n",
              "      <td>3294</td>\n",
              "      <td>left</td>\n",
              "      <td>SCREEN</td>\n",
              "    </tr>\n",
              "    <tr>\n",
              "      <th>3</th>\n",
              "      <td>00:00:38.500000</td>\n",
              "      <td>85.10</td>\n",
              "      <td>23.74</td>\n",
              "      <td>0.00</td>\n",
              "      <td>0.00</td>\n",
              "      <td>0.00</td>\n",
              "      <td>NaN</td>\n",
              "      <td>NaN</td>\n",
              "      <td>None</td>\n",
              "      <td>NaN</td>\n",
              "      <td>Football</td>\n",
              "      <td>NaN</td>\n",
              "      <td>NaN</td>\n",
              "      <td>1</td>\n",
              "      <td>football</td>\n",
              "      <td>2018111809</td>\n",
              "      <td>3294</td>\n",
              "      <td>left</td>\n",
              "      <td>NaN</td>\n",
              "    </tr>\n",
              "    <tr>\n",
              "      <th>4</th>\n",
              "      <td>00:00:38.500000</td>\n",
              "      <td>86.82</td>\n",
              "      <td>7.17</td>\n",
              "      <td>0.03</td>\n",
              "      <td>0.02</td>\n",
              "      <td>0.01</td>\n",
              "      <td>263.02</td>\n",
              "      <td>288.96</td>\n",
              "      <td>None</td>\n",
              "      <td>2560949.0</td>\n",
              "      <td>Josh Adams</td>\n",
              "      <td>33.0</td>\n",
              "      <td>RB</td>\n",
              "      <td>1</td>\n",
              "      <td>away</td>\n",
              "      <td>2018111809</td>\n",
              "      <td>3294</td>\n",
              "      <td>left</td>\n",
              "      <td>GO</td>\n",
              "    </tr>\n",
              "  </tbody>\n",
              "</table>\n",
              "</div>"
            ],
            "text/plain": [
              "              time      x      y  ...  playId  playDirection   route\n",
              "0  00:00:38.500000  86.80  44.97  ...    3294           left      GO\n",
              "1  00:00:38.500000  80.39  37.16  ...    3294           left     NaN\n",
              "2  00:00:38.500000  86.34  36.31  ...    3294           left  SCREEN\n",
              "3  00:00:38.500000  85.10  23.74  ...    3294           left     NaN\n",
              "4  00:00:38.500000  86.82   7.17  ...    3294           left      GO\n",
              "\n",
              "[5 rows x 19 columns]"
            ]
          },
          "metadata": {},
          "execution_count": 8
        }
      ]
    },
    {
      "cell_type": "markdown",
      "metadata": {
        "id": "lTUuyTvs0Hhm"
      },
      "source": [
        "Let us select a specific gameId and playID to visualize the player positions within a specific game and play."
      ]
    },
    {
      "cell_type": "code",
      "metadata": {
        "colab": {
          "base_uri": "https://localhost:8080/",
          "height": 541
        },
        "id": "0uNrTmpT0Hhn",
        "outputId": "a283c6b5-cdaa-4ffc-e93b-7fac5ef2e20c"
      },
      "source": [
        "# Selecting the data for the given game and play based on their Id\n",
        "sel_df = df.query('gameId == 2018111900 and playId == 5577')\n",
        "\n",
        "# Looking at the shape of the DataFrame\n",
        "print(f'The shape of the DataFrame is: {sel_df.shape}')\n",
        "\n",
        "# Looking at the DataFrame\n",
        "sel_df"
      ],
      "execution_count": 9,
      "outputs": [
        {
          "output_type": "stream",
          "name": "stdout",
          "text": [
            "The shape of the DataFrame is: (1770, 19)\n"
          ]
        },
        {
          "output_type": "execute_result",
          "data": {
            "text/html": [
              "<div>\n",
              "<style scoped>\n",
              "    .dataframe tbody tr th:only-of-type {\n",
              "        vertical-align: middle;\n",
              "    }\n",
              "\n",
              "    .dataframe tbody tr th {\n",
              "        vertical-align: top;\n",
              "    }\n",
              "\n",
              "    .dataframe thead th {\n",
              "        text-align: right;\n",
              "    }\n",
              "</style>\n",
              "<table border=\"1\" class=\"dataframe\">\n",
              "  <thead>\n",
              "    <tr style=\"text-align: right;\">\n",
              "      <th></th>\n",
              "      <th>time</th>\n",
              "      <th>x</th>\n",
              "      <th>y</th>\n",
              "      <th>s</th>\n",
              "      <th>a</th>\n",
              "      <th>dis</th>\n",
              "      <th>o</th>\n",
              "      <th>dir</th>\n",
              "      <th>event</th>\n",
              "      <th>nflId</th>\n",
              "      <th>displayName</th>\n",
              "      <th>jerseyNumber</th>\n",
              "      <th>position</th>\n",
              "      <th>frameId</th>\n",
              "      <th>team</th>\n",
              "      <th>gameId</th>\n",
              "      <th>playId</th>\n",
              "      <th>playDirection</th>\n",
              "      <th>route</th>\n",
              "    </tr>\n",
              "  </thead>\n",
              "  <tbody>\n",
              "    <tr>\n",
              "      <th>282518</th>\n",
              "      <td>04:57:48</td>\n",
              "      <td>84.26</td>\n",
              "      <td>23.74</td>\n",
              "      <td>0.00</td>\n",
              "      <td>0.00</td>\n",
              "      <td>0.00</td>\n",
              "      <td>NaN</td>\n",
              "      <td>NaN</td>\n",
              "      <td>None</td>\n",
              "      <td>NaN</td>\n",
              "      <td>Football</td>\n",
              "      <td>NaN</td>\n",
              "      <td>NaN</td>\n",
              "      <td>1</td>\n",
              "      <td>football</td>\n",
              "      <td>2018111900</td>\n",
              "      <td>5577</td>\n",
              "      <td>left</td>\n",
              "      <td>NaN</td>\n",
              "    </tr>\n",
              "    <tr>\n",
              "      <th>282519</th>\n",
              "      <td>04:57:48</td>\n",
              "      <td>83.26</td>\n",
              "      <td>29.86</td>\n",
              "      <td>0.00</td>\n",
              "      <td>0.00</td>\n",
              "      <td>0.00</td>\n",
              "      <td>64.10</td>\n",
              "      <td>79.64</td>\n",
              "      <td>None</td>\n",
              "      <td>2558830.0</td>\n",
              "      <td>Samson Ebukam</td>\n",
              "      <td>50.0</td>\n",
              "      <td>OLB</td>\n",
              "      <td>1</td>\n",
              "      <td>home</td>\n",
              "      <td>2018111900</td>\n",
              "      <td>5577</td>\n",
              "      <td>left</td>\n",
              "      <td>NaN</td>\n",
              "    </tr>\n",
              "    <tr>\n",
              "      <th>282520</th>\n",
              "      <td>04:57:48</td>\n",
              "      <td>63.54</td>\n",
              "      <td>18.25</td>\n",
              "      <td>0.07</td>\n",
              "      <td>0.76</td>\n",
              "      <td>0.01</td>\n",
              "      <td>67.33</td>\n",
              "      <td>3.53</td>\n",
              "      <td>None</td>\n",
              "      <td>2558183.0</td>\n",
              "      <td>John Johnson</td>\n",
              "      <td>43.0</td>\n",
              "      <td>SS</td>\n",
              "      <td>1</td>\n",
              "      <td>home</td>\n",
              "      <td>2018111900</td>\n",
              "      <td>5577</td>\n",
              "      <td>left</td>\n",
              "      <td>NaN</td>\n",
              "    </tr>\n",
              "    <tr>\n",
              "      <th>282521</th>\n",
              "      <td>04:57:48</td>\n",
              "      <td>88.42</td>\n",
              "      <td>23.54</td>\n",
              "      <td>0.11</td>\n",
              "      <td>0.04</td>\n",
              "      <td>0.01</td>\n",
              "      <td>272.66</td>\n",
              "      <td>325.11</td>\n",
              "      <td>None</td>\n",
              "      <td>2558125.0</td>\n",
              "      <td>Patrick Mahomes</td>\n",
              "      <td>15.0</td>\n",
              "      <td>QB</td>\n",
              "      <td>1</td>\n",
              "      <td>away</td>\n",
              "      <td>2018111900</td>\n",
              "      <td>5577</td>\n",
              "      <td>left</td>\n",
              "      <td>NaN</td>\n",
              "    </tr>\n",
              "    <tr>\n",
              "      <th>282522</th>\n",
              "      <td>04:57:48</td>\n",
              "      <td>79.76</td>\n",
              "      <td>26.36</td>\n",
              "      <td>0.01</td>\n",
              "      <td>0.01</td>\n",
              "      <td>0.00</td>\n",
              "      <td>105.22</td>\n",
              "      <td>4.91</td>\n",
              "      <td>None</td>\n",
              "      <td>2556593.0</td>\n",
              "      <td>Cory Littleton</td>\n",
              "      <td>58.0</td>\n",
              "      <td>ILB</td>\n",
              "      <td>1</td>\n",
              "      <td>home</td>\n",
              "      <td>2018111900</td>\n",
              "      <td>5577</td>\n",
              "      <td>left</td>\n",
              "      <td>NaN</td>\n",
              "    </tr>\n",
              "    <tr>\n",
              "      <th>...</th>\n",
              "      <td>...</td>\n",
              "      <td>...</td>\n",
              "      <td>...</td>\n",
              "      <td>...</td>\n",
              "      <td>...</td>\n",
              "      <td>...</td>\n",
              "      <td>...</td>\n",
              "      <td>...</td>\n",
              "      <td>...</td>\n",
              "      <td>...</td>\n",
              "      <td>...</td>\n",
              "      <td>...</td>\n",
              "      <td>...</td>\n",
              "      <td>...</td>\n",
              "      <td>...</td>\n",
              "      <td>...</td>\n",
              "      <td>...</td>\n",
              "      <td>...</td>\n",
              "      <td>...</td>\n",
              "    </tr>\n",
              "    <tr>\n",
              "      <th>284283</th>\n",
              "      <td>04:57:59.700000</td>\n",
              "      <td>60.25</td>\n",
              "      <td>29.51</td>\n",
              "      <td>6.40</td>\n",
              "      <td>2.21</td>\n",
              "      <td>0.65</td>\n",
              "      <td>314.31</td>\n",
              "      <td>294.95</td>\n",
              "      <td>None</td>\n",
              "      <td>2540204.0</td>\n",
              "      <td>Spencer Ware</td>\n",
              "      <td>32.0</td>\n",
              "      <td>RB</td>\n",
              "      <td>118</td>\n",
              "      <td>away</td>\n",
              "      <td>2018111900</td>\n",
              "      <td>5577</td>\n",
              "      <td>left</td>\n",
              "      <td>FLAT</td>\n",
              "    </tr>\n",
              "    <tr>\n",
              "      <th>284284</th>\n",
              "      <td>04:57:59.700000</td>\n",
              "      <td>63.23</td>\n",
              "      <td>45.92</td>\n",
              "      <td>3.81</td>\n",
              "      <td>1.20</td>\n",
              "      <td>0.37</td>\n",
              "      <td>257.27</td>\n",
              "      <td>262.77</td>\n",
              "      <td>None</td>\n",
              "      <td>1037374.0</td>\n",
              "      <td>Sam Shields</td>\n",
              "      <td>37.0</td>\n",
              "      <td>CB</td>\n",
              "      <td>118</td>\n",
              "      <td>home</td>\n",
              "      <td>2018111900</td>\n",
              "      <td>5577</td>\n",
              "      <td>left</td>\n",
              "      <td>NaN</td>\n",
              "    </tr>\n",
              "    <tr>\n",
              "      <th>284285</th>\n",
              "      <td>04:57:59.700000</td>\n",
              "      <td>52.42</td>\n",
              "      <td>49.74</td>\n",
              "      <td>3.74</td>\n",
              "      <td>1.48</td>\n",
              "      <td>0.38</td>\n",
              "      <td>12.75</td>\n",
              "      <td>290.79</td>\n",
              "      <td>None</td>\n",
              "      <td>2553536.0</td>\n",
              "      <td>Troy Hill</td>\n",
              "      <td>32.0</td>\n",
              "      <td>CB</td>\n",
              "      <td>118</td>\n",
              "      <td>home</td>\n",
              "      <td>2018111900</td>\n",
              "      <td>5577</td>\n",
              "      <td>left</td>\n",
              "      <td>NaN</td>\n",
              "    </tr>\n",
              "    <tr>\n",
              "      <th>284286</th>\n",
              "      <td>04:57:59.700000</td>\n",
              "      <td>84.26</td>\n",
              "      <td>28.11</td>\n",
              "      <td>1.73</td>\n",
              "      <td>0.54</td>\n",
              "      <td>0.17</td>\n",
              "      <td>260.29</td>\n",
              "      <td>249.13</td>\n",
              "      <td>None</td>\n",
              "      <td>2558830.0</td>\n",
              "      <td>Samson Ebukam</td>\n",
              "      <td>50.0</td>\n",
              "      <td>OLB</td>\n",
              "      <td>118</td>\n",
              "      <td>home</td>\n",
              "      <td>2018111900</td>\n",
              "      <td>5577</td>\n",
              "      <td>left</td>\n",
              "      <td>NaN</td>\n",
              "    </tr>\n",
              "    <tr>\n",
              "      <th>284287</th>\n",
              "      <td>04:57:59.700000</td>\n",
              "      <td>42.19</td>\n",
              "      <td>41.24</td>\n",
              "      <td>2.05</td>\n",
              "      <td>4.00</td>\n",
              "      <td>0.23</td>\n",
              "      <td>NaN</td>\n",
              "      <td>NaN</td>\n",
              "      <td>None</td>\n",
              "      <td>NaN</td>\n",
              "      <td>Football</td>\n",
              "      <td>NaN</td>\n",
              "      <td>NaN</td>\n",
              "      <td>118</td>\n",
              "      <td>football</td>\n",
              "      <td>2018111900</td>\n",
              "      <td>5577</td>\n",
              "      <td>left</td>\n",
              "      <td>NaN</td>\n",
              "    </tr>\n",
              "  </tbody>\n",
              "</table>\n",
              "<p>1770 rows × 19 columns</p>\n",
              "</div>"
            ],
            "text/plain": [
              "                   time      x      y  ...  playId  playDirection  route\n",
              "282518         04:57:48  84.26  23.74  ...    5577           left    NaN\n",
              "282519         04:57:48  83.26  29.86  ...    5577           left    NaN\n",
              "282520         04:57:48  63.54  18.25  ...    5577           left    NaN\n",
              "282521         04:57:48  88.42  23.54  ...    5577           left    NaN\n",
              "282522         04:57:48  79.76  26.36  ...    5577           left    NaN\n",
              "...                 ...    ...    ...  ...     ...            ...    ...\n",
              "284283  04:57:59.700000  60.25  29.51  ...    5577           left   FLAT\n",
              "284284  04:57:59.700000  63.23  45.92  ...    5577           left    NaN\n",
              "284285  04:57:59.700000  52.42  49.74  ...    5577           left    NaN\n",
              "284286  04:57:59.700000  84.26  28.11  ...    5577           left    NaN\n",
              "284287  04:57:59.700000  42.19  41.24  ...    5577           left    NaN\n",
              "\n",
              "[1770 rows x 19 columns]"
            ]
          },
          "metadata": {},
          "execution_count": 9
        }
      ]
    },
    {
      "cell_type": "markdown",
      "metadata": {
        "id": "0f5kRfuC0Hhp"
      },
      "source": [
        "Now, let us seperate out the teams as well as the football in the data for plotting."
      ]
    },
    {
      "cell_type": "code",
      "metadata": {
        "id": "37Ie-zR10Hhq"
      },
      "source": [
        "# Selecting the home and away team\n",
        "home_team = sel_df.query('team == \"home\"')\n",
        "away_team = sel_df.query('team == \"away\"')\n",
        "\n",
        "# Selecting the football\n",
        "football = sel_df.query('team == \"football\"')"
      ],
      "execution_count": 10,
      "outputs": []
    },
    {
      "cell_type": "code",
      "metadata": {
        "colab": {
          "base_uri": "https://localhost:8080/",
          "height": 375
        },
        "id": "uNaH0chU0Hhs",
        "outputId": "a2df807d-2376-483c-a28d-a98361557520"
      },
      "source": [
        "# Creating the football field\n",
        "fig, ax = create_football_field()\n",
        "\n",
        "# Plotitng the home team\n",
        "home_team.plot(x='x', y='y', kind='scatter', ax=ax, color='blue', s=20, zorder=2)\n",
        "\n",
        "# Plotting the away team\n",
        "away_team.plot(x='x', y='y', kind='scatter', ax=ax, color='orange', s=20, zorder=2)\n",
        "\n",
        "# Plotting the football\n",
        "football.plot(x='x', y='y', kind='scatter', ax=ax, color='brown', s=20, zorder=2)\n",
        "\n",
        "# Displaying the plot\n",
        "plt.show()"
      ],
      "execution_count": 11,
      "outputs": [
        {
          "output_type": "display_data",
          "data": {
            "image/png": "[encoded data removed]",
            "text/plain": [
              "<Figure size 864x455.76 with 1 Axes>"
            ]
          },
          "metadata": {
            "needs_background": "light"
          }
        }
      ]
    },
    {
      "cell_type": "markdown",
      "metadata": {
        "id": "_ln3_fLD0Hhu"
      },
      "source": [
        "We can also visualize a specific event by just selecting the event."
      ]
    },
    {
      "cell_type": "code",
      "metadata": {
        "colab": {
          "base_uri": "https://localhost:8080/"
        },
        "id": "3A-h2j5D0Hhw",
        "outputId": "5150e8f7-c04c-4e18-ae53-ffd23b3d0d28"
      },
      "source": [
        "sel_df['event'].unique()"
      ],
      "execution_count": 12,
      "outputs": [
        {
          "output_type": "execute_result",
          "data": {
            "text/plain": [
              "array(['None', 'ball_snap', 'first_contact', 'pass_forward',\n",
              "       'pass_outcome_interception', 'tackle'], dtype=object)"
            ]
          },
          "metadata": {},
          "execution_count": 12
        }
      ]
    },
    {
      "cell_type": "markdown",
      "metadata": {
        "id": "GNg5a-pU0Hhy"
      },
      "source": [
        "Plotting the data for the event of ball_snap, that is, when the quarterback first receives the football."
      ]
    },
    {
      "cell_type": "code",
      "metadata": {
        "colab": {
          "base_uri": "https://localhost:8080/",
          "height": 375
        },
        "id": "6xuYi4O00Hhz",
        "outputId": "1a8f784b-4863-46e4-fc0e-d0e59c6e0893"
      },
      "source": [
        "# Creating the football field\n",
        "fig, ax = create_football_field()\n",
        "\n",
        "# Plotitng the home team\n",
        "home_team.query('event == \"ball_snap\"').plot(x='x', y='y', kind='scatter', ax=ax, color='blue', s=20, zorder=2)\n",
        "\n",
        "# Plotting the away team\n",
        "away_team.query('event == \"ball_snap\"').plot(x='x', y='y', kind='scatter', ax=ax, color='orange', s=20, zorder=2)\n",
        "\n",
        "# Plotting the football\n",
        "football.query('event == \"ball_snap\"').plot(x='x', y='y', kind='scatter', ax=ax, color='brown', s=20, zorder=2)\n",
        "\n",
        "# Displaying the plot\n",
        "plt.show()"
      ],
      "execution_count": 13,
      "outputs": [
        {
          "output_type": "display_data",
          "data": {
            "image/png": "[encoded data removed]",
            "text/plain": [
              "<Figure size 864x455.76 with 1 Axes>"
            ]
          },
          "metadata": {
            "needs_background": "light"
          }
        }
      ]
    },
    {
      "cell_type": "markdown",
      "metadata": {
        "id": "AozndeRz0Hh1"
      },
      "source": [
        "In this way, we can visualize any game, play and event on the football field.\n",
        "\n"
      ]
    }
  ]
}