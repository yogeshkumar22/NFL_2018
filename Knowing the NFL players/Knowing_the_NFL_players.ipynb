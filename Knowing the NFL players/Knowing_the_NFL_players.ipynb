{
  "nbformat": 4,
  "nbformat_minor": 0,
  "metadata": {
    "kernelspec": {
      "display_name": "Python 3",
      "language": "python",
      "name": "python3"
    },
    "language_info": {
      "codemirror_mode": {
        "name": "ipython",
        "version": 3
      },
      "file_extension": ".py",
      "mimetype": "text/x-python",
      "name": "python",
      "nbconvert_exporter": "python",
      "pygments_lexer": "ipython3",
      "version": "3.8.6"
    },
    "colab": {
      "name": "Knowing the NFL players.ipynb",
      "provenance": [],
      "include_colab_link": true
    }
  },
  "cells": [
    {
      "cell_type": "markdown",
      "metadata": {
        "id": "view-in-github",
        "colab_type": "text"
      },
      "source": [
        "<a href=\"https://colab.research.google.com/github/yogeshkumar22/NFL_2018/blob/main/Knowing%20the%20NFL%20players/Knowing_the_NFL_players.ipynb\" target=\"_parent\"><img src=\"https://colab.research.google.com/assets/colab-badge.svg\" alt=\"Open In Colab\"/></a>"
      ]
    },
    {
      "cell_type": "markdown",
      "metadata": {
        "id": "fzWdJJ7gqD-2"
      },
      "source": [
        "# Knowing the NFL players"
      ]
    },
    {
      "cell_type": "markdown",
      "metadata": {
        "id": "jzRKuDx6qD_h"
      },
      "source": [
        "The second dataset that we will be looking is the dataset containing infromation about the NFL players. Such kind of datasets are very helpful in giving us an idea about the physical attributes of a player and the distribution of player statistics amongst different team positions."
      ]
    },
    {
      "cell_type": "markdown",
      "metadata": {
        "id": "rjpSEC9ZqD_m"
      },
      "source": [
        "This dataset contains the following information:"
      ]
    },
    {
      "cell_type": "markdown",
      "metadata": {
        "id": "yJsX2MrTqD_r"
      },
      "source": [
        "- nflId: Player identification number, unique across players (numeric)\n",
        "\n",
        "- height: Player height (text)\n",
        "\n",
        "- weight: Player weight (numeric)\n",
        "\n",
        "- birthDate: Date of birth (YYYY-MM-DD)\n",
        "\n",
        "- collegeName: Player college (text)\n",
        "\n",
        "- position: Player position (text)\n",
        "\n",
        "- displayName: Player name (text)"
      ]
    },
    {
      "cell_type": "markdown",
      "metadata": {
        "id": "sItoyyCWqEAA"
      },
      "source": [
        "Let us start by importing the necessary libraries,"
      ]
    },
    {
      "cell_type": "code",
      "metadata": {
        "id": "SRIoWyjIqEAD"
      },
      "source": [
        "import pandas as pd\n",
        "import matplotlib.pyplot as plt\n",
        "import seaborn as sns\n",
        "import datetime\n",
        "import warnings\n",
        "warnings.filterwarnings('ignore')\n",
        "\n",
        "%matplotlib inline"
      ],
      "execution_count": 1,
      "outputs": []
    },
    {
      "cell_type": "markdown",
      "metadata": {
        "id": "ScwuKJsWqEAU"
      },
      "source": [
        "Next, importing the CSV file called `players.csv` which contains information about the NFL players."
      ]
    },
    {
      "cell_type": "code",
      "metadata": {
        "id": "EA_r4G6nqEAa"
      },
      "source": [
        "# Reading in the CSV file as a DataFrame \n",
        "players_df = pd.read_csv('players.csv')"
      ],
      "execution_count": 2,
      "outputs": []
    },
    {
      "cell_type": "code",
      "metadata": {
        "scrolled": false,
        "colab": {
          "base_uri": "https://localhost:8080/",
          "height": 204
        },
        "id": "5dVc8V-8qEAj",
        "outputId": "fed7e9e0-0a06-4981-875e-b5132c9345ec"
      },
      "source": [
        "# Looking at the first five rows\n",
        "players_df.head()"
      ],
      "execution_count": 3,
      "outputs": [
        {
          "output_type": "execute_result",
          "data": {
            "text/html": [
              "<div>\n",
              "<style scoped>\n",
              "    .dataframe tbody tr th:only-of-type {\n",
              "        vertical-align: middle;\n",
              "    }\n",
              "\n",
              "    .dataframe tbody tr th {\n",
              "        vertical-align: top;\n",
              "    }\n",
              "\n",
              "    .dataframe thead th {\n",
              "        text-align: right;\n",
              "    }\n",
              "</style>\n",
              "<table border=\"1\" class=\"dataframe\">\n",
              "  <thead>\n",
              "    <tr style=\"text-align: right;\">\n",
              "      <th></th>\n",
              "      <th>nflId</th>\n",
              "      <th>height</th>\n",
              "      <th>weight</th>\n",
              "      <th>birthDate</th>\n",
              "      <th>collegeName</th>\n",
              "      <th>position</th>\n",
              "      <th>displayName</th>\n",
              "    </tr>\n",
              "  </thead>\n",
              "  <tbody>\n",
              "    <tr>\n",
              "      <th>0</th>\n",
              "      <td>2539334</td>\n",
              "      <td>72</td>\n",
              "      <td>190</td>\n",
              "      <td>1990-09-10</td>\n",
              "      <td>Washington</td>\n",
              "      <td>CB</td>\n",
              "      <td>Desmond Trufant</td>\n",
              "    </tr>\n",
              "    <tr>\n",
              "      <th>1</th>\n",
              "      <td>2539653</td>\n",
              "      <td>70</td>\n",
              "      <td>186</td>\n",
              "      <td>1988-11-01</td>\n",
              "      <td>Southeastern Louisiana</td>\n",
              "      <td>CB</td>\n",
              "      <td>Robert Alford</td>\n",
              "    </tr>\n",
              "    <tr>\n",
              "      <th>2</th>\n",
              "      <td>2543850</td>\n",
              "      <td>69</td>\n",
              "      <td>186</td>\n",
              "      <td>1991-12-18</td>\n",
              "      <td>Purdue</td>\n",
              "      <td>SS</td>\n",
              "      <td>Ricardo Allen</td>\n",
              "    </tr>\n",
              "    <tr>\n",
              "      <th>3</th>\n",
              "      <td>2555162</td>\n",
              "      <td>73</td>\n",
              "      <td>227</td>\n",
              "      <td>1994-11-04</td>\n",
              "      <td>Louisiana State</td>\n",
              "      <td>MLB</td>\n",
              "      <td>Deion Jones</td>\n",
              "    </tr>\n",
              "    <tr>\n",
              "      <th>4</th>\n",
              "      <td>2555255</td>\n",
              "      <td>75</td>\n",
              "      <td>232</td>\n",
              "      <td>1993-07-01</td>\n",
              "      <td>Minnesota</td>\n",
              "      <td>OLB</td>\n",
              "      <td>De'Vondre Campbell</td>\n",
              "    </tr>\n",
              "  </tbody>\n",
              "</table>\n",
              "</div>"
            ],
            "text/plain": [
              "     nflId height  weight  ...             collegeName position         displayName\n",
              "0  2539334     72     190  ...              Washington       CB     Desmond Trufant\n",
              "1  2539653     70     186  ...  Southeastern Louisiana       CB       Robert Alford\n",
              "2  2543850     69     186  ...                  Purdue       SS       Ricardo Allen\n",
              "3  2555162     73     227  ...         Louisiana State      MLB         Deion Jones\n",
              "4  2555255     75     232  ...               Minnesota      OLB  De'Vondre Campbell\n",
              "\n",
              "[5 rows x 7 columns]"
            ]
          },
          "metadata": {},
          "execution_count": 3
        }
      ]
    },
    {
      "cell_type": "markdown",
      "metadata": {
        "id": "oi0iBhovqEA0"
      },
      "source": [
        "Let us also view the shape of the DataFrame to know how many players are present in the dataset."
      ]
    },
    {
      "cell_type": "code",
      "metadata": {
        "scrolled": true,
        "colab": {
          "base_uri": "https://localhost:8080/"
        },
        "id": "wC525mMHqEA4",
        "outputId": "a2afcc68-6ca8-43f8-e9c3-57db70703ea7"
      },
      "source": [
        "# Viewing the shape of the DataFrame\n",
        "players_df.shape"
      ],
      "execution_count": 4,
      "outputs": [
        {
          "output_type": "execute_result",
          "data": {
            "text/plain": [
              "(1303, 7)"
            ]
          },
          "metadata": {},
          "execution_count": 4
        }
      ]
    },
    {
      "cell_type": "markdown",
      "metadata": {
        "id": "az2m1vHYqEA9"
      },
      "source": [
        "Before we begin, let us convert the date columns to Pandas datetime values."
      ]
    },
    {
      "cell_type": "code",
      "metadata": {
        "colab": {
          "base_uri": "https://localhost:8080/",
          "height": 204
        },
        "id": "2tH3CwC4qEBA",
        "outputId": "32ef623d-db61-4d53-fed4-f207b0b6d16c"
      },
      "source": [
        "# Converting to datetime.date values\n",
        "players_df['birthDate'] = pd.to_datetime(players_df['birthDate']).dt.date\n",
        "\n",
        "# Extracting the year\n",
        "players_df['birthYear'] = pd.to_datetime(players_df['birthDate']).dt.year\n",
        "\n",
        "# Looking at the first five rows\n",
        "players_df.head()"
      ],
      "execution_count": 5,
      "outputs": [
        {
          "output_type": "execute_result",
          "data": {
            "text/html": [
              "<div>\n",
              "<style scoped>\n",
              "    .dataframe tbody tr th:only-of-type {\n",
              "        vertical-align: middle;\n",
              "    }\n",
              "\n",
              "    .dataframe tbody tr th {\n",
              "        vertical-align: top;\n",
              "    }\n",
              "\n",
              "    .dataframe thead th {\n",
              "        text-align: right;\n",
              "    }\n",
              "</style>\n",
              "<table border=\"1\" class=\"dataframe\">\n",
              "  <thead>\n",
              "    <tr style=\"text-align: right;\">\n",
              "      <th></th>\n",
              "      <th>nflId</th>\n",
              "      <th>height</th>\n",
              "      <th>weight</th>\n",
              "      <th>birthDate</th>\n",
              "      <th>collegeName</th>\n",
              "      <th>position</th>\n",
              "      <th>displayName</th>\n",
              "      <th>birthYear</th>\n",
              "    </tr>\n",
              "  </thead>\n",
              "  <tbody>\n",
              "    <tr>\n",
              "      <th>0</th>\n",
              "      <td>2539334</td>\n",
              "      <td>72</td>\n",
              "      <td>190</td>\n",
              "      <td>1990-09-10</td>\n",
              "      <td>Washington</td>\n",
              "      <td>CB</td>\n",
              "      <td>Desmond Trufant</td>\n",
              "      <td>1990</td>\n",
              "    </tr>\n",
              "    <tr>\n",
              "      <th>1</th>\n",
              "      <td>2539653</td>\n",
              "      <td>70</td>\n",
              "      <td>186</td>\n",
              "      <td>1988-11-01</td>\n",
              "      <td>Southeastern Louisiana</td>\n",
              "      <td>CB</td>\n",
              "      <td>Robert Alford</td>\n",
              "      <td>1988</td>\n",
              "    </tr>\n",
              "    <tr>\n",
              "      <th>2</th>\n",
              "      <td>2543850</td>\n",
              "      <td>69</td>\n",
              "      <td>186</td>\n",
              "      <td>1991-12-18</td>\n",
              "      <td>Purdue</td>\n",
              "      <td>SS</td>\n",
              "      <td>Ricardo Allen</td>\n",
              "      <td>1991</td>\n",
              "    </tr>\n",
              "    <tr>\n",
              "      <th>3</th>\n",
              "      <td>2555162</td>\n",
              "      <td>73</td>\n",
              "      <td>227</td>\n",
              "      <td>1994-11-04</td>\n",
              "      <td>Louisiana State</td>\n",
              "      <td>MLB</td>\n",
              "      <td>Deion Jones</td>\n",
              "      <td>1994</td>\n",
              "    </tr>\n",
              "    <tr>\n",
              "      <th>4</th>\n",
              "      <td>2555255</td>\n",
              "      <td>75</td>\n",
              "      <td>232</td>\n",
              "      <td>1993-07-01</td>\n",
              "      <td>Minnesota</td>\n",
              "      <td>OLB</td>\n",
              "      <td>De'Vondre Campbell</td>\n",
              "      <td>1993</td>\n",
              "    </tr>\n",
              "  </tbody>\n",
              "</table>\n",
              "</div>"
            ],
            "text/plain": [
              "     nflId height  weight  ... position         displayName birthYear\n",
              "0  2539334     72     190  ...       CB     Desmond Trufant      1990\n",
              "1  2539653     70     186  ...       CB       Robert Alford      1988\n",
              "2  2543850     69     186  ...       SS       Ricardo Allen      1991\n",
              "3  2555162     73     227  ...      MLB         Deion Jones      1994\n",
              "4  2555255     75     232  ...      OLB  De'Vondre Campbell      1993\n",
              "\n",
              "[5 rows x 8 columns]"
            ]
          },
          "metadata": {},
          "execution_count": 5
        }
      ]
    },
    {
      "cell_type": "markdown",
      "metadata": {
        "id": "vtKF6lpIqEBH"
      },
      "source": [
        "Let us start our analysis by finding the age distribution of the NFL players. For this, we will have to find the age of the players in respect to the year 2018."
      ]
    },
    {
      "cell_type": "code",
      "metadata": {
        "colab": {
          "base_uri": "https://localhost:8080/",
          "height": 204
        },
        "id": "1HUJkOmwqEBN",
        "outputId": "0edbd93f-17c9-40a4-e910-fc965e932236"
      },
      "source": [
        "# Finding the age of the players\n",
        "players_df['age'] = 2018 - players_df['birthYear']\n",
        "\n",
        "# Looking at the first five rows\n",
        "players_df.head()"
      ],
      "execution_count": 6,
      "outputs": [
        {
          "output_type": "execute_result",
          "data": {
            "text/html": [
              "<div>\n",
              "<style scoped>\n",
              "    .dataframe tbody tr th:only-of-type {\n",
              "        vertical-align: middle;\n",
              "    }\n",
              "\n",
              "    .dataframe tbody tr th {\n",
              "        vertical-align: top;\n",
              "    }\n",
              "\n",
              "    .dataframe thead th {\n",
              "        text-align: right;\n",
              "    }\n",
              "</style>\n",
              "<table border=\"1\" class=\"dataframe\">\n",
              "  <thead>\n",
              "    <tr style=\"text-align: right;\">\n",
              "      <th></th>\n",
              "      <th>nflId</th>\n",
              "      <th>height</th>\n",
              "      <th>weight</th>\n",
              "      <th>birthDate</th>\n",
              "      <th>collegeName</th>\n",
              "      <th>position</th>\n",
              "      <th>displayName</th>\n",
              "      <th>birthYear</th>\n",
              "      <th>age</th>\n",
              "    </tr>\n",
              "  </thead>\n",
              "  <tbody>\n",
              "    <tr>\n",
              "      <th>0</th>\n",
              "      <td>2539334</td>\n",
              "      <td>72</td>\n",
              "      <td>190</td>\n",
              "      <td>1990-09-10</td>\n",
              "      <td>Washington</td>\n",
              "      <td>CB</td>\n",
              "      <td>Desmond Trufant</td>\n",
              "      <td>1990</td>\n",
              "      <td>28</td>\n",
              "    </tr>\n",
              "    <tr>\n",
              "      <th>1</th>\n",
              "      <td>2539653</td>\n",
              "      <td>70</td>\n",
              "      <td>186</td>\n",
              "      <td>1988-11-01</td>\n",
              "      <td>Southeastern Louisiana</td>\n",
              "      <td>CB</td>\n",
              "      <td>Robert Alford</td>\n",
              "      <td>1988</td>\n",
              "      <td>30</td>\n",
              "    </tr>\n",
              "    <tr>\n",
              "      <th>2</th>\n",
              "      <td>2543850</td>\n",
              "      <td>69</td>\n",
              "      <td>186</td>\n",
              "      <td>1991-12-18</td>\n",
              "      <td>Purdue</td>\n",
              "      <td>SS</td>\n",
              "      <td>Ricardo Allen</td>\n",
              "      <td>1991</td>\n",
              "      <td>27</td>\n",
              "    </tr>\n",
              "    <tr>\n",
              "      <th>3</th>\n",
              "      <td>2555162</td>\n",
              "      <td>73</td>\n",
              "      <td>227</td>\n",
              "      <td>1994-11-04</td>\n",
              "      <td>Louisiana State</td>\n",
              "      <td>MLB</td>\n",
              "      <td>Deion Jones</td>\n",
              "      <td>1994</td>\n",
              "      <td>24</td>\n",
              "    </tr>\n",
              "    <tr>\n",
              "      <th>4</th>\n",
              "      <td>2555255</td>\n",
              "      <td>75</td>\n",
              "      <td>232</td>\n",
              "      <td>1993-07-01</td>\n",
              "      <td>Minnesota</td>\n",
              "      <td>OLB</td>\n",
              "      <td>De'Vondre Campbell</td>\n",
              "      <td>1993</td>\n",
              "      <td>25</td>\n",
              "    </tr>\n",
              "  </tbody>\n",
              "</table>\n",
              "</div>"
            ],
            "text/plain": [
              "     nflId height  weight  ...         displayName birthYear age\n",
              "0  2539334     72     190  ...     Desmond Trufant      1990  28\n",
              "1  2539653     70     186  ...       Robert Alford      1988  30\n",
              "2  2543850     69     186  ...       Ricardo Allen      1991  27\n",
              "3  2555162     73     227  ...         Deion Jones      1994  24\n",
              "4  2555255     75     232  ...  De'Vondre Campbell      1993  25\n",
              "\n",
              "[5 rows x 9 columns]"
            ]
          },
          "metadata": {},
          "execution_count": 6
        }
      ]
    },
    {
      "cell_type": "markdown",
      "metadata": {
        "id": "R4l_916RqEBS"
      },
      "source": [
        "Since, we have the function we made in the previous lesson, we can use it to find the age distribution of the players easily."
      ]
    },
    {
      "cell_type": "code",
      "metadata": {
        "id": "_kcNx7JpqEBY"
      },
      "source": [
        "def find_dist(df, col_name):\n",
        "    \n",
        "    # Checking the frequency of games in relation to the column values\n",
        "    dist = df[col_name].value_counts().reset_index()\n",
        "    \n",
        "    # Renaming the columns\n",
        "    dist.columns = [col_name, 'frequency']\n",
        "        \n",
        "    # Sorting the DataFrame based on the column values\n",
        "    sorted_dist = dist.sort_values(col_name, ascending=True).set_index(col_name)\n",
        "\n",
        "    # Plotting a bar plot\n",
        "    sorted_dist.plot(kind='bar', figsize=(20,4))\n",
        "\n",
        "    # Return a boolean indicating the function was successfully executed\n",
        "    return True"
      ],
      "execution_count": 7,
      "outputs": []
    },
    {
      "cell_type": "code",
      "metadata": {
        "colab": {
          "base_uri": "https://localhost:8080/",
          "height": 230
        },
        "id": "CBf8reLPqEBb",
        "outputId": "59933e7c-a46e-4dfd-bf7d-475d7e8e9709"
      },
      "source": [
        "# Visualizing frequency distribution of players in relation to their age\n",
        "find_dist(players_df, 'age')"
      ],
      "execution_count": 8,
      "outputs": [
        {
          "output_type": "execute_result",
          "data": {
            "text/plain": [
              "True"
            ]
          },
          "metadata": {},
          "execution_count": 8
        },
        {
          "output_type": "display_data",
          "data": {
            "image/png": "[encoded data removed]",
            "text/plain": [
              "<Figure size 1440x288 with 1 Axes>"
            ]
          },
          "metadata": {
            "needs_background": "light"
          }
        }
      ]
    },
    {
      "cell_type": "markdown",
      "metadata": {
        "id": "HhRY-kgmqEBk"
      },
      "source": [
        "Next, let us also see how the players are distributed amongst different team positions."
      ]
    },
    {
      "cell_type": "code",
      "metadata": {
        "colab": {
          "base_uri": "https://localhost:8080/",
          "height": 204
        },
        "id": "2VFBHuNjqEBn",
        "outputId": "50fbf04e-34bc-48de-e8ec-d0dd44f5c797"
      },
      "source": [
        "# Looking at the first five rows\n",
        "players_df.head()"
      ],
      "execution_count": 9,
      "outputs": [
        {
          "output_type": "execute_result",
          "data": {
            "text/html": [
              "<div>\n",
              "<style scoped>\n",
              "    .dataframe tbody tr th:only-of-type {\n",
              "        vertical-align: middle;\n",
              "    }\n",
              "\n",
              "    .dataframe tbody tr th {\n",
              "        vertical-align: top;\n",
              "    }\n",
              "\n",
              "    .dataframe thead th {\n",
              "        text-align: right;\n",
              "    }\n",
              "</style>\n",
              "<table border=\"1\" class=\"dataframe\">\n",
              "  <thead>\n",
              "    <tr style=\"text-align: right;\">\n",
              "      <th></th>\n",
              "      <th>nflId</th>\n",
              "      <th>height</th>\n",
              "      <th>weight</th>\n",
              "      <th>birthDate</th>\n",
              "      <th>collegeName</th>\n",
              "      <th>position</th>\n",
              "      <th>displayName</th>\n",
              "      <th>birthYear</th>\n",
              "      <th>age</th>\n",
              "    </tr>\n",
              "  </thead>\n",
              "  <tbody>\n",
              "    <tr>\n",
              "      <th>0</th>\n",
              "      <td>2539334</td>\n",
              "      <td>72</td>\n",
              "      <td>190</td>\n",
              "      <td>1990-09-10</td>\n",
              "      <td>Washington</td>\n",
              "      <td>CB</td>\n",
              "      <td>Desmond Trufant</td>\n",
              "      <td>1990</td>\n",
              "      <td>28</td>\n",
              "    </tr>\n",
              "    <tr>\n",
              "      <th>1</th>\n",
              "      <td>2539653</td>\n",
              "      <td>70</td>\n",
              "      <td>186</td>\n",
              "      <td>1988-11-01</td>\n",
              "      <td>Southeastern Louisiana</td>\n",
              "      <td>CB</td>\n",
              "      <td>Robert Alford</td>\n",
              "      <td>1988</td>\n",
              "      <td>30</td>\n",
              "    </tr>\n",
              "    <tr>\n",
              "      <th>2</th>\n",
              "      <td>2543850</td>\n",
              "      <td>69</td>\n",
              "      <td>186</td>\n",
              "      <td>1991-12-18</td>\n",
              "      <td>Purdue</td>\n",
              "      <td>SS</td>\n",
              "      <td>Ricardo Allen</td>\n",
              "      <td>1991</td>\n",
              "      <td>27</td>\n",
              "    </tr>\n",
              "    <tr>\n",
              "      <th>3</th>\n",
              "      <td>2555162</td>\n",
              "      <td>73</td>\n",
              "      <td>227</td>\n",
              "      <td>1994-11-04</td>\n",
              "      <td>Louisiana State</td>\n",
              "      <td>MLB</td>\n",
              "      <td>Deion Jones</td>\n",
              "      <td>1994</td>\n",
              "      <td>24</td>\n",
              "    </tr>\n",
              "    <tr>\n",
              "      <th>4</th>\n",
              "      <td>2555255</td>\n",
              "      <td>75</td>\n",
              "      <td>232</td>\n",
              "      <td>1993-07-01</td>\n",
              "      <td>Minnesota</td>\n",
              "      <td>OLB</td>\n",
              "      <td>De'Vondre Campbell</td>\n",
              "      <td>1993</td>\n",
              "      <td>25</td>\n",
              "    </tr>\n",
              "  </tbody>\n",
              "</table>\n",
              "</div>"
            ],
            "text/plain": [
              "     nflId height  weight  ...         displayName birthYear age\n",
              "0  2539334     72     190  ...     Desmond Trufant      1990  28\n",
              "1  2539653     70     186  ...       Robert Alford      1988  30\n",
              "2  2543850     69     186  ...       Ricardo Allen      1991  27\n",
              "3  2555162     73     227  ...         Deion Jones      1994  24\n",
              "4  2555255     75     232  ...  De'Vondre Campbell      1993  25\n",
              "\n",
              "[5 rows x 9 columns]"
            ]
          },
          "metadata": {},
          "execution_count": 9
        }
      ]
    },
    {
      "cell_type": "markdown",
      "metadata": {
        "id": "s5KVQoFAqEBt"
      },
      "source": [
        "![player_positions.png](data:image/png;base64,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)"
      ]
    },
    {
      "cell_type": "code",
      "metadata": {
        "colab": {
          "base_uri": "https://localhost:8080/",
          "height": 236
        },
        "id": "aNBwdPfRqEBy",
        "outputId": "4f5f8bd7-11d9-4a4e-dc2b-1274ad1712b0"
      },
      "source": [
        "# Visualizing frequency distribution of players in relation to their positions\n",
        "find_dist(players_df, 'position')"
      ],
      "execution_count": 10,
      "outputs": [
        {
          "output_type": "execute_result",
          "data": {
            "text/plain": [
              "True"
            ]
          },
          "metadata": {},
          "execution_count": 10
        },
        {
          "output_type": "display_data",
          "data": {
            "image/png": "[encoded data removed]",
            "text/plain": [
              "<Figure size 1440x288 with 1 Axes>"
            ]
          },
          "metadata": {
            "needs_background": "light"
          }
        }
      ]
    },
    {
      "cell_type": "markdown",
      "metadata": {
        "id": "tIt17SEWqEB1"
      },
      "source": [
        "Now, let us look at how the age distribution of players in the CB (Cornerback) and WR (Wide Receiver) positions. For this, we can select the data points for either of the positions and then, find their age distribution."
      ]
    },
    {
      "cell_type": "code",
      "metadata": {
        "colab": {
          "base_uri": "https://localhost:8080/",
          "height": 419
        },
        "id": "2UCkVeNQqEB5",
        "outputId": "9449f6d4-cfa4-4b8e-9e76-9ae7463cb88d"
      },
      "source": [
        "# Selecting position = CB\n",
        "players_df.query('position == \"CB\"')"
      ],
      "execution_count": 11,
      "outputs": [
        {
          "output_type": "execute_result",
          "data": {
            "text/html": [
              "<div>\n",
              "<style scoped>\n",
              "    .dataframe tbody tr th:only-of-type {\n",
              "        vertical-align: middle;\n",
              "    }\n",
              "\n",
              "    .dataframe tbody tr th {\n",
              "        vertical-align: top;\n",
              "    }\n",
              "\n",
              "    .dataframe thead th {\n",
              "        text-align: right;\n",
              "    }\n",
              "</style>\n",
              "<table border=\"1\" class=\"dataframe\">\n",
              "  <thead>\n",
              "    <tr style=\"text-align: right;\">\n",
              "      <th></th>\n",
              "      <th>nflId</th>\n",
              "      <th>height</th>\n",
              "      <th>weight</th>\n",
              "      <th>birthDate</th>\n",
              "      <th>collegeName</th>\n",
              "      <th>position</th>\n",
              "      <th>displayName</th>\n",
              "      <th>birthYear</th>\n",
              "      <th>age</th>\n",
              "    </tr>\n",
              "  </thead>\n",
              "  <tbody>\n",
              "    <tr>\n",
              "      <th>0</th>\n",
              "      <td>2539334</td>\n",
              "      <td>72</td>\n",
              "      <td>190</td>\n",
              "      <td>1990-09-10</td>\n",
              "      <td>Washington</td>\n",
              "      <td>CB</td>\n",
              "      <td>Desmond Trufant</td>\n",
              "      <td>1990</td>\n",
              "      <td>28</td>\n",
              "    </tr>\n",
              "    <tr>\n",
              "      <th>1</th>\n",
              "      <td>2539653</td>\n",
              "      <td>70</td>\n",
              "      <td>186</td>\n",
              "      <td>1988-11-01</td>\n",
              "      <td>Southeastern Louisiana</td>\n",
              "      <td>CB</td>\n",
              "      <td>Robert Alford</td>\n",
              "      <td>1988</td>\n",
              "      <td>30</td>\n",
              "    </tr>\n",
              "    <tr>\n",
              "      <th>6</th>\n",
              "      <td>2556445</td>\n",
              "      <td>70</td>\n",
              "      <td>211</td>\n",
              "      <td>1992-10-20</td>\n",
              "      <td>Florida</td>\n",
              "      <td>CB</td>\n",
              "      <td>Brian Poole</td>\n",
              "      <td>1992</td>\n",
              "      <td>26</td>\n",
              "    </tr>\n",
              "    <tr>\n",
              "      <th>28</th>\n",
              "      <td>2552689</td>\n",
              "      <td>71</td>\n",
              "      <td>193</td>\n",
              "      <td>1994-01-02</td>\n",
              "      <td>Florida State</td>\n",
              "      <td>CB</td>\n",
              "      <td>Ronald Darby</td>\n",
              "      <td>1994</td>\n",
              "      <td>24</td>\n",
              "    </tr>\n",
              "    <tr>\n",
              "      <th>29</th>\n",
              "      <td>2555383</td>\n",
              "      <td>72</td>\n",
              "      <td>191</td>\n",
              "      <td>1994-04-06</td>\n",
              "      <td>Louisiana State</td>\n",
              "      <td>CB</td>\n",
              "      <td>Jalen Mills</td>\n",
              "      <td>1994</td>\n",
              "      <td>24</td>\n",
              "    </tr>\n",
              "    <tr>\n",
              "      <th>...</th>\n",
              "      <td>...</td>\n",
              "      <td>...</td>\n",
              "      <td>...</td>\n",
              "      <td>...</td>\n",
              "      <td>...</td>\n",
              "      <td>...</td>\n",
              "      <td>...</td>\n",
              "      <td>...</td>\n",
              "      <td>...</td>\n",
              "    </tr>\n",
              "    <tr>\n",
              "      <th>1228</th>\n",
              "      <td>2561316</td>\n",
              "      <td>70</td>\n",
              "      <td>185</td>\n",
              "      <td>1996-02-02</td>\n",
              "      <td>Utah State</td>\n",
              "      <td>CB</td>\n",
              "      <td>Jalen Davis</td>\n",
              "      <td>1996</td>\n",
              "      <td>22</td>\n",
              "    </tr>\n",
              "    <tr>\n",
              "      <th>1241</th>\n",
              "      <td>2556371</td>\n",
              "      <td>72</td>\n",
              "      <td>200</td>\n",
              "      <td>1992-09-09</td>\n",
              "      <td>Texas A&amp;M</td>\n",
              "      <td>CB</td>\n",
              "      <td>Brandon Williams</td>\n",
              "      <td>1992</td>\n",
              "      <td>26</td>\n",
              "    </tr>\n",
              "    <tr>\n",
              "      <th>1248</th>\n",
              "      <td>2558858</td>\n",
              "      <td>5-11</td>\n",
              "      <td>195</td>\n",
              "      <td>1994-06-25</td>\n",
              "      <td>Auburn</td>\n",
              "      <td>CB</td>\n",
              "      <td>Joshua Holsey</td>\n",
              "      <td>1994</td>\n",
              "      <td>24</td>\n",
              "    </tr>\n",
              "    <tr>\n",
              "      <th>1278</th>\n",
              "      <td>2558819</td>\n",
              "      <td>6-2</td>\n",
              "      <td>188</td>\n",
              "      <td>1994-12-04</td>\n",
              "      <td>Mississippi</td>\n",
              "      <td>CB</td>\n",
              "      <td>Derrick Jones</td>\n",
              "      <td>1994</td>\n",
              "      <td>24</td>\n",
              "    </tr>\n",
              "    <tr>\n",
              "      <th>1301</th>\n",
              "      <td>2561469</td>\n",
              "      <td>69</td>\n",
              "      <td>187</td>\n",
              "      <td>1993-03-15</td>\n",
              "      <td>Alabama-Birmingham</td>\n",
              "      <td>CB</td>\n",
              "      <td>Darious Williams</td>\n",
              "      <td>1993</td>\n",
              "      <td>25</td>\n",
              "    </tr>\n",
              "  </tbody>\n",
              "</table>\n",
              "<p>195 rows × 9 columns</p>\n",
              "</div>"
            ],
            "text/plain": [
              "        nflId height  weight  ...       displayName birthYear age\n",
              "0     2539334     72     190  ...   Desmond Trufant      1990  28\n",
              "1     2539653     70     186  ...     Robert Alford      1988  30\n",
              "6     2556445     70     211  ...       Brian Poole      1992  26\n",
              "28    2552689     71     193  ...      Ronald Darby      1994  24\n",
              "29    2555383     72     191  ...       Jalen Mills      1994  24\n",
              "...       ...    ...     ...  ...               ...       ...  ..\n",
              "1228  2561316     70     185  ...       Jalen Davis      1996  22\n",
              "1241  2556371     72     200  ...  Brandon Williams      1992  26\n",
              "1248  2558858   5-11     195  ...     Joshua Holsey      1994  24\n",
              "1278  2558819    6-2     188  ...     Derrick Jones      1994  24\n",
              "1301  2561469     69     187  ...  Darious Williams      1993  25\n",
              "\n",
              "[195 rows x 9 columns]"
            ]
          },
          "metadata": {},
          "execution_count": 11
        }
      ]
    },
    {
      "cell_type": "code",
      "metadata": {
        "colab": {
          "base_uri": "https://localhost:8080/",
          "height": 231
        },
        "id": "HO9dVfW1qEB_",
        "outputId": "3e6c3889-bfad-4b4a-8f70-960db92a4b89"
      },
      "source": [
        "# Visualizing frequency distribution of players in relation to the CB position\n",
        "find_dist(players_df.query('position == \"CB\"'), 'age')"
      ],
      "execution_count": 12,
      "outputs": [
        {
          "output_type": "execute_result",
          "data": {
            "text/plain": [
              "True"
            ]
          },
          "metadata": {},
          "execution_count": 12
        },
        {
          "output_type": "display_data",
          "data": {
            "image/png": "[encoded data removed]",
            "text/plain": [
              "<Figure size 1440x288 with 1 Axes>"
            ]
          },
          "metadata": {
            "needs_background": "light"
          }
        }
      ]
    },
    {
      "cell_type": "code",
      "metadata": {
        "colab": {
          "base_uri": "https://localhost:8080/",
          "height": 231
        },
        "id": "bgJl3SmbqECC",
        "outputId": "ca36290a-047b-4dd4-c7b5-5fa94fea6b5a"
      },
      "source": [
        "# Visualizing frequency distribution of players in relation to the WR position\n",
        "find_dist(players_df.query('position == \"WR\"'), 'age')"
      ],
      "execution_count": 13,
      "outputs": [
        {
          "output_type": "execute_result",
          "data": {
            "text/plain": [
              "True"
            ]
          },
          "metadata": {},
          "execution_count": 13
        },
        {
          "output_type": "display_data",
          "data": {
            "image/png": "[encoded data removed]",
            "text/plain": [
              "<Figure size 1440x288 with 1 Axes>"
            ]
          },
          "metadata": {
            "needs_background": "light"
          }
        }
      ]
    },
    {
      "cell_type": "markdown",
      "metadata": {
        "id": "UVdaE5I5qECG"
      },
      "source": [
        "Now, let us look at the actual height and weight distribution of the players. However, their is some inconsistency in the data in the `height` column."
      ]
    },
    {
      "cell_type": "code",
      "metadata": {
        "scrolled": true,
        "colab": {
          "base_uri": "https://localhost:8080/",
          "height": 669
        },
        "id": "6b8YhIRSqECK",
        "outputId": "97ae9e2a-82e6-42f3-dde8-431580919eba"
      },
      "source": [
        "# Looking at the first twenty rows\n",
        "players_df.head(20)"
      ],
      "execution_count": 14,
      "outputs": [
        {
          "output_type": "execute_result",
          "data": {
            "text/html": [
              "<div>\n",
              "<style scoped>\n",
              "    .dataframe tbody tr th:only-of-type {\n",
              "        vertical-align: middle;\n",
              "    }\n",
              "\n",
              "    .dataframe tbody tr th {\n",
              "        vertical-align: top;\n",
              "    }\n",
              "\n",
              "    .dataframe thead th {\n",
              "        text-align: right;\n",
              "    }\n",
              "</style>\n",
              "<table border=\"1\" class=\"dataframe\">\n",
              "  <thead>\n",
              "    <tr style=\"text-align: right;\">\n",
              "      <th></th>\n",
              "      <th>nflId</th>\n",
              "      <th>height</th>\n",
              "      <th>weight</th>\n",
              "      <th>birthDate</th>\n",
              "      <th>collegeName</th>\n",
              "      <th>position</th>\n",
              "      <th>displayName</th>\n",
              "      <th>birthYear</th>\n",
              "      <th>age</th>\n",
              "    </tr>\n",
              "  </thead>\n",
              "  <tbody>\n",
              "    <tr>\n",
              "      <th>0</th>\n",
              "      <td>2539334</td>\n",
              "      <td>72</td>\n",
              "      <td>190</td>\n",
              "      <td>1990-09-10</td>\n",
              "      <td>Washington</td>\n",
              "      <td>CB</td>\n",
              "      <td>Desmond Trufant</td>\n",
              "      <td>1990</td>\n",
              "      <td>28</td>\n",
              "    </tr>\n",
              "    <tr>\n",
              "      <th>1</th>\n",
              "      <td>2539653</td>\n",
              "      <td>70</td>\n",
              "      <td>186</td>\n",
              "      <td>1988-11-01</td>\n",
              "      <td>Southeastern Louisiana</td>\n",
              "      <td>CB</td>\n",
              "      <td>Robert Alford</td>\n",
              "      <td>1988</td>\n",
              "      <td>30</td>\n",
              "    </tr>\n",
              "    <tr>\n",
              "      <th>2</th>\n",
              "      <td>2543850</td>\n",
              "      <td>69</td>\n",
              "      <td>186</td>\n",
              "      <td>1991-12-18</td>\n",
              "      <td>Purdue</td>\n",
              "      <td>SS</td>\n",
              "      <td>Ricardo Allen</td>\n",
              "      <td>1991</td>\n",
              "      <td>27</td>\n",
              "    </tr>\n",
              "    <tr>\n",
              "      <th>3</th>\n",
              "      <td>2555162</td>\n",
              "      <td>73</td>\n",
              "      <td>227</td>\n",
              "      <td>1994-11-04</td>\n",
              "      <td>Louisiana State</td>\n",
              "      <td>MLB</td>\n",
              "      <td>Deion Jones</td>\n",
              "      <td>1994</td>\n",
              "      <td>24</td>\n",
              "    </tr>\n",
              "    <tr>\n",
              "      <th>4</th>\n",
              "      <td>2555255</td>\n",
              "      <td>75</td>\n",
              "      <td>232</td>\n",
              "      <td>1993-07-01</td>\n",
              "      <td>Minnesota</td>\n",
              "      <td>OLB</td>\n",
              "      <td>De'Vondre Campbell</td>\n",
              "      <td>1993</td>\n",
              "      <td>25</td>\n",
              "    </tr>\n",
              "    <tr>\n",
              "      <th>5</th>\n",
              "      <td>2555543</td>\n",
              "      <td>73</td>\n",
              "      <td>216</td>\n",
              "      <td>1995-07-26</td>\n",
              "      <td>Florida</td>\n",
              "      <td>FS</td>\n",
              "      <td>Keanu Neal</td>\n",
              "      <td>1995</td>\n",
              "      <td>23</td>\n",
              "    </tr>\n",
              "    <tr>\n",
              "      <th>6</th>\n",
              "      <td>2556445</td>\n",
              "      <td>70</td>\n",
              "      <td>211</td>\n",
              "      <td>1992-10-20</td>\n",
              "      <td>Florida</td>\n",
              "      <td>CB</td>\n",
              "      <td>Brian Poole</td>\n",
              "      <td>1992</td>\n",
              "      <td>26</td>\n",
              "    </tr>\n",
              "    <tr>\n",
              "      <th>7</th>\n",
              "      <td>2507763</td>\n",
              "      <td>6-0</td>\n",
              "      <td>200</td>\n",
              "      <td>1986-08-01</td>\n",
              "      <td>Mississippi</td>\n",
              "      <td>WR</td>\n",
              "      <td>Mike Wallace</td>\n",
              "      <td>1986</td>\n",
              "      <td>32</td>\n",
              "    </tr>\n",
              "    <tr>\n",
              "      <th>8</th>\n",
              "      <td>2532842</td>\n",
              "      <td>78</td>\n",
              "      <td>243</td>\n",
              "      <td>1989-01-20</td>\n",
              "      <td>Arizona</td>\n",
              "      <td>QB</td>\n",
              "      <td>Nick Foles</td>\n",
              "      <td>1989</td>\n",
              "      <td>29</td>\n",
              "    </tr>\n",
              "    <tr>\n",
              "      <th>9</th>\n",
              "      <td>2540158</td>\n",
              "      <td>77</td>\n",
              "      <td>250</td>\n",
              "      <td>1990-11-10</td>\n",
              "      <td>Stanford</td>\n",
              "      <td>TE</td>\n",
              "      <td>Zach Ertz</td>\n",
              "      <td>1990</td>\n",
              "      <td>28</td>\n",
              "    </tr>\n",
              "    <tr>\n",
              "      <th>10</th>\n",
              "      <td>2552582</td>\n",
              "      <td>6-0</td>\n",
              "      <td>223</td>\n",
              "      <td>1993-06-15</td>\n",
              "      <td>Boise State</td>\n",
              "      <td>RB</td>\n",
              "      <td>Jay Ajayi</td>\n",
              "      <td>1993</td>\n",
              "      <td>25</td>\n",
              "    </tr>\n",
              "    <tr>\n",
              "      <th>11</th>\n",
              "      <td>2552600</td>\n",
              "      <td>72</td>\n",
              "      <td>198</td>\n",
              "      <td>1993-05-24</td>\n",
              "      <td>Southern California</td>\n",
              "      <td>WR</td>\n",
              "      <td>Nelson Agholor</td>\n",
              "      <td>1993</td>\n",
              "      <td>25</td>\n",
              "    </tr>\n",
              "    <tr>\n",
              "      <th>12</th>\n",
              "      <td>2553502</td>\n",
              "      <td>68</td>\n",
              "      <td>190</td>\n",
              "      <td>1993-04-10</td>\n",
              "      <td>Sacramento State</td>\n",
              "      <td>WR</td>\n",
              "      <td>DeAndre Carter</td>\n",
              "      <td>1993</td>\n",
              "      <td>25</td>\n",
              "    </tr>\n",
              "    <tr>\n",
              "      <th>13</th>\n",
              "      <td>2552301</td>\n",
              "      <td>75</td>\n",
              "      <td>246</td>\n",
              "      <td>1992-07-08</td>\n",
              "      <td>Clemson</td>\n",
              "      <td>DE</td>\n",
              "      <td>Vic Beasley</td>\n",
              "      <td>1992</td>\n",
              "      <td>26</td>\n",
              "    </tr>\n",
              "    <tr>\n",
              "      <th>14</th>\n",
              "      <td>2506467</td>\n",
              "      <td>66</td>\n",
              "      <td>190</td>\n",
              "      <td>1983-06-20</td>\n",
              "      <td>Kansas State</td>\n",
              "      <td>RB</td>\n",
              "      <td>Darren Sproles</td>\n",
              "      <td>1983</td>\n",
              "      <td>35</td>\n",
              "    </tr>\n",
              "    <tr>\n",
              "      <th>15</th>\n",
              "      <td>2557967</td>\n",
              "      <td>73</td>\n",
              "      <td>230</td>\n",
              "      <td>1994-08-09</td>\n",
              "      <td>Louisiana State</td>\n",
              "      <td>OLB</td>\n",
              "      <td>Duke Riley</td>\n",
              "      <td>1994</td>\n",
              "      <td>24</td>\n",
              "    </tr>\n",
              "    <tr>\n",
              "      <th>16</th>\n",
              "      <td>2558184</td>\n",
              "      <td>71</td>\n",
              "      <td>190</td>\n",
              "      <td>1993-06-05</td>\n",
              "      <td>San Diego State</td>\n",
              "      <td>SS</td>\n",
              "      <td>Damontae Kazee</td>\n",
              "      <td>1993</td>\n",
              "      <td>25</td>\n",
              "    </tr>\n",
              "    <tr>\n",
              "      <th>17</th>\n",
              "      <td>2560995</td>\n",
              "      <td>77</td>\n",
              "      <td>256</td>\n",
              "      <td>1995-01-03</td>\n",
              "      <td>South Dakota State</td>\n",
              "      <td>TE</td>\n",
              "      <td>Dallas Goedert</td>\n",
              "      <td>1995</td>\n",
              "      <td>23</td>\n",
              "    </tr>\n",
              "    <tr>\n",
              "      <th>18</th>\n",
              "      <td>2559150</td>\n",
              "      <td>70</td>\n",
              "      <td>220</td>\n",
              "      <td>1994-11-02</td>\n",
              "      <td>Wisconsin</td>\n",
              "      <td>RB</td>\n",
              "      <td>Corey Clement</td>\n",
              "      <td>1994</td>\n",
              "      <td>24</td>\n",
              "    </tr>\n",
              "    <tr>\n",
              "      <th>19</th>\n",
              "      <td>310</td>\n",
              "      <td>76</td>\n",
              "      <td>217</td>\n",
              "      <td>1985-05-17</td>\n",
              "      <td>Boston College</td>\n",
              "      <td>QB</td>\n",
              "      <td>Matt Ryan</td>\n",
              "      <td>1985</td>\n",
              "      <td>33</td>\n",
              "    </tr>\n",
              "  </tbody>\n",
              "</table>\n",
              "</div>"
            ],
            "text/plain": [
              "      nflId height  weight  ...         displayName birthYear age\n",
              "0   2539334     72     190  ...     Desmond Trufant      1990  28\n",
              "1   2539653     70     186  ...       Robert Alford      1988  30\n",
              "2   2543850     69     186  ...       Ricardo Allen      1991  27\n",
              "3   2555162     73     227  ...         Deion Jones      1994  24\n",
              "4   2555255     75     232  ...  De'Vondre Campbell      1993  25\n",
              "5   2555543     73     216  ...          Keanu Neal      1995  23\n",
              "6   2556445     70     211  ...         Brian Poole      1992  26\n",
              "7   2507763    6-0     200  ...        Mike Wallace      1986  32\n",
              "8   2532842     78     243  ...          Nick Foles      1989  29\n",
              "9   2540158     77     250  ...           Zach Ertz      1990  28\n",
              "10  2552582    6-0     223  ...           Jay Ajayi      1993  25\n",
              "11  2552600     72     198  ...      Nelson Agholor      1993  25\n",
              "12  2553502     68     190  ...      DeAndre Carter      1993  25\n",
              "13  2552301     75     246  ...         Vic Beasley      1992  26\n",
              "14  2506467     66     190  ...      Darren Sproles      1983  35\n",
              "15  2557967     73     230  ...          Duke Riley      1994  24\n",
              "16  2558184     71     190  ...      Damontae Kazee      1993  25\n",
              "17  2560995     77     256  ...      Dallas Goedert      1995  23\n",
              "18  2559150     70     220  ...       Corey Clement      1994  24\n",
              "19      310     76     217  ...           Matt Ryan      1985  33\n",
              "\n",
              "[20 rows x 9 columns]"
            ]
          },
          "metadata": {},
          "execution_count": 14
        }
      ]
    },
    {
      "cell_type": "markdown",
      "metadata": {
        "id": "GOD8I2-YqECN"
      },
      "source": [
        "Let us fix it by converting all datapoints to inches."
      ]
    },
    {
      "cell_type": "code",
      "metadata": {
        "scrolled": true,
        "colab": {
          "base_uri": "https://localhost:8080/",
          "height": 669
        },
        "id": "1CPl6qy2qECP",
        "outputId": "f1da7a8c-dbe4-4b43-faf4-2f85abe85854"
      },
      "source": [
        "# Fixing the inconsistency by converting all data to inches\n",
        "players_df['height'] = players_df['height'].apply(lambda x: int(x[0])*12 + int(x[2]) if '-' in x else int(x))\n",
        "\n",
        "# Looking at the first twenty rows\n",
        "players_df.head(20)"
      ],
      "execution_count": 15,
      "outputs": [
        {
          "output_type": "execute_result",
          "data": {
            "text/html": [
              "<div>\n",
              "<style scoped>\n",
              "    .dataframe tbody tr th:only-of-type {\n",
              "        vertical-align: middle;\n",
              "    }\n",
              "\n",
              "    .dataframe tbody tr th {\n",
              "        vertical-align: top;\n",
              "    }\n",
              "\n",
              "    .dataframe thead th {\n",
              "        text-align: right;\n",
              "    }\n",
              "</style>\n",
              "<table border=\"1\" class=\"dataframe\">\n",
              "  <thead>\n",
              "    <tr style=\"text-align: right;\">\n",
              "      <th></th>\n",
              "      <th>nflId</th>\n",
              "      <th>height</th>\n",
              "      <th>weight</th>\n",
              "      <th>birthDate</th>\n",
              "      <th>collegeName</th>\n",
              "      <th>position</th>\n",
              "      <th>displayName</th>\n",
              "      <th>birthYear</th>\n",
              "      <th>age</th>\n",
              "    </tr>\n",
              "  </thead>\n",
              "  <tbody>\n",
              "    <tr>\n",
              "      <th>0</th>\n",
              "      <td>2539334</td>\n",
              "      <td>72</td>\n",
              "      <td>190</td>\n",
              "      <td>1990-09-10</td>\n",
              "      <td>Washington</td>\n",
              "      <td>CB</td>\n",
              "      <td>Desmond Trufant</td>\n",
              "      <td>1990</td>\n",
              "      <td>28</td>\n",
              "    </tr>\n",
              "    <tr>\n",
              "      <th>1</th>\n",
              "      <td>2539653</td>\n",
              "      <td>70</td>\n",
              "      <td>186</td>\n",
              "      <td>1988-11-01</td>\n",
              "      <td>Southeastern Louisiana</td>\n",
              "      <td>CB</td>\n",
              "      <td>Robert Alford</td>\n",
              "      <td>1988</td>\n",
              "      <td>30</td>\n",
              "    </tr>\n",
              "    <tr>\n",
              "      <th>2</th>\n",
              "      <td>2543850</td>\n",
              "      <td>69</td>\n",
              "      <td>186</td>\n",
              "      <td>1991-12-18</td>\n",
              "      <td>Purdue</td>\n",
              "      <td>SS</td>\n",
              "      <td>Ricardo Allen</td>\n",
              "      <td>1991</td>\n",
              "      <td>27</td>\n",
              "    </tr>\n",
              "    <tr>\n",
              "      <th>3</th>\n",
              "      <td>2555162</td>\n",
              "      <td>73</td>\n",
              "      <td>227</td>\n",
              "      <td>1994-11-04</td>\n",
              "      <td>Louisiana State</td>\n",
              "      <td>MLB</td>\n",
              "      <td>Deion Jones</td>\n",
              "      <td>1994</td>\n",
              "      <td>24</td>\n",
              "    </tr>\n",
              "    <tr>\n",
              "      <th>4</th>\n",
              "      <td>2555255</td>\n",
              "      <td>75</td>\n",
              "      <td>232</td>\n",
              "      <td>1993-07-01</td>\n",
              "      <td>Minnesota</td>\n",
              "      <td>OLB</td>\n",
              "      <td>De'Vondre Campbell</td>\n",
              "      <td>1993</td>\n",
              "      <td>25</td>\n",
              "    </tr>\n",
              "    <tr>\n",
              "      <th>5</th>\n",
              "      <td>2555543</td>\n",
              "      <td>73</td>\n",
              "      <td>216</td>\n",
              "      <td>1995-07-26</td>\n",
              "      <td>Florida</td>\n",
              "      <td>FS</td>\n",
              "      <td>Keanu Neal</td>\n",
              "      <td>1995</td>\n",
              "      <td>23</td>\n",
              "    </tr>\n",
              "    <tr>\n",
              "      <th>6</th>\n",
              "      <td>2556445</td>\n",
              "      <td>70</td>\n",
              "      <td>211</td>\n",
              "      <td>1992-10-20</td>\n",
              "      <td>Florida</td>\n",
              "      <td>CB</td>\n",
              "      <td>Brian Poole</td>\n",
              "      <td>1992</td>\n",
              "      <td>26</td>\n",
              "    </tr>\n",
              "    <tr>\n",
              "      <th>7</th>\n",
              "      <td>2507763</td>\n",
              "      <td>72</td>\n",
              "      <td>200</td>\n",
              "      <td>1986-08-01</td>\n",
              "      <td>Mississippi</td>\n",
              "      <td>WR</td>\n",
              "      <td>Mike Wallace</td>\n",
              "      <td>1986</td>\n",
              "      <td>32</td>\n",
              "    </tr>\n",
              "    <tr>\n",
              "      <th>8</th>\n",
              "      <td>2532842</td>\n",
              "      <td>78</td>\n",
              "      <td>243</td>\n",
              "      <td>1989-01-20</td>\n",
              "      <td>Arizona</td>\n",
              "      <td>QB</td>\n",
              "      <td>Nick Foles</td>\n",
              "      <td>1989</td>\n",
              "      <td>29</td>\n",
              "    </tr>\n",
              "    <tr>\n",
              "      <th>9</th>\n",
              "      <td>2540158</td>\n",
              "      <td>77</td>\n",
              "      <td>250</td>\n",
              "      <td>1990-11-10</td>\n",
              "      <td>Stanford</td>\n",
              "      <td>TE</td>\n",
              "      <td>Zach Ertz</td>\n",
              "      <td>1990</td>\n",
              "      <td>28</td>\n",
              "    </tr>\n",
              "    <tr>\n",
              "      <th>10</th>\n",
              "      <td>2552582</td>\n",
              "      <td>72</td>\n",
              "      <td>223</td>\n",
              "      <td>1993-06-15</td>\n",
              "      <td>Boise State</td>\n",
              "      <td>RB</td>\n",
              "      <td>Jay Ajayi</td>\n",
              "      <td>1993</td>\n",
              "      <td>25</td>\n",
              "    </tr>\n",
              "    <tr>\n",
              "      <th>11</th>\n",
              "      <td>2552600</td>\n",
              "      <td>72</td>\n",
              "      <td>198</td>\n",
              "      <td>1993-05-24</td>\n",
              "      <td>Southern California</td>\n",
              "      <td>WR</td>\n",
              "      <td>Nelson Agholor</td>\n",
              "      <td>1993</td>\n",
              "      <td>25</td>\n",
              "    </tr>\n",
              "    <tr>\n",
              "      <th>12</th>\n",
              "      <td>2553502</td>\n",
              "      <td>68</td>\n",
              "      <td>190</td>\n",
              "      <td>1993-04-10</td>\n",
              "      <td>Sacramento State</td>\n",
              "      <td>WR</td>\n",
              "      <td>DeAndre Carter</td>\n",
              "      <td>1993</td>\n",
              "      <td>25</td>\n",
              "    </tr>\n",
              "    <tr>\n",
              "      <th>13</th>\n",
              "      <td>2552301</td>\n",
              "      <td>75</td>\n",
              "      <td>246</td>\n",
              "      <td>1992-07-08</td>\n",
              "      <td>Clemson</td>\n",
              "      <td>DE</td>\n",
              "      <td>Vic Beasley</td>\n",
              "      <td>1992</td>\n",
              "      <td>26</td>\n",
              "    </tr>\n",
              "    <tr>\n",
              "      <th>14</th>\n",
              "      <td>2506467</td>\n",
              "      <td>66</td>\n",
              "      <td>190</td>\n",
              "      <td>1983-06-20</td>\n",
              "      <td>Kansas State</td>\n",
              "      <td>RB</td>\n",
              "      <td>Darren Sproles</td>\n",
              "      <td>1983</td>\n",
              "      <td>35</td>\n",
              "    </tr>\n",
              "    <tr>\n",
              "      <th>15</th>\n",
              "      <td>2557967</td>\n",
              "      <td>73</td>\n",
              "      <td>230</td>\n",
              "      <td>1994-08-09</td>\n",
              "      <td>Louisiana State</td>\n",
              "      <td>OLB</td>\n",
              "      <td>Duke Riley</td>\n",
              "      <td>1994</td>\n",
              "      <td>24</td>\n",
              "    </tr>\n",
              "    <tr>\n",
              "      <th>16</th>\n",
              "      <td>2558184</td>\n",
              "      <td>71</td>\n",
              "      <td>190</td>\n",
              "      <td>1993-06-05</td>\n",
              "      <td>San Diego State</td>\n",
              "      <td>SS</td>\n",
              "      <td>Damontae Kazee</td>\n",
              "      <td>1993</td>\n",
              "      <td>25</td>\n",
              "    </tr>\n",
              "    <tr>\n",
              "      <th>17</th>\n",
              "      <td>2560995</td>\n",
              "      <td>77</td>\n",
              "      <td>256</td>\n",
              "      <td>1995-01-03</td>\n",
              "      <td>South Dakota State</td>\n",
              "      <td>TE</td>\n",
              "      <td>Dallas Goedert</td>\n",
              "      <td>1995</td>\n",
              "      <td>23</td>\n",
              "    </tr>\n",
              "    <tr>\n",
              "      <th>18</th>\n",
              "      <td>2559150</td>\n",
              "      <td>70</td>\n",
              "      <td>220</td>\n",
              "      <td>1994-11-02</td>\n",
              "      <td>Wisconsin</td>\n",
              "      <td>RB</td>\n",
              "      <td>Corey Clement</td>\n",
              "      <td>1994</td>\n",
              "      <td>24</td>\n",
              "    </tr>\n",
              "    <tr>\n",
              "      <th>19</th>\n",
              "      <td>310</td>\n",
              "      <td>76</td>\n",
              "      <td>217</td>\n",
              "      <td>1985-05-17</td>\n",
              "      <td>Boston College</td>\n",
              "      <td>QB</td>\n",
              "      <td>Matt Ryan</td>\n",
              "      <td>1985</td>\n",
              "      <td>33</td>\n",
              "    </tr>\n",
              "  </tbody>\n",
              "</table>\n",
              "</div>"
            ],
            "text/plain": [
              "      nflId  height  weight  ...         displayName birthYear age\n",
              "0   2539334      72     190  ...     Desmond Trufant      1990  28\n",
              "1   2539653      70     186  ...       Robert Alford      1988  30\n",
              "2   2543850      69     186  ...       Ricardo Allen      1991  27\n",
              "3   2555162      73     227  ...         Deion Jones      1994  24\n",
              "4   2555255      75     232  ...  De'Vondre Campbell      1993  25\n",
              "5   2555543      73     216  ...          Keanu Neal      1995  23\n",
              "6   2556445      70     211  ...         Brian Poole      1992  26\n",
              "7   2507763      72     200  ...        Mike Wallace      1986  32\n",
              "8   2532842      78     243  ...          Nick Foles      1989  29\n",
              "9   2540158      77     250  ...           Zach Ertz      1990  28\n",
              "10  2552582      72     223  ...           Jay Ajayi      1993  25\n",
              "11  2552600      72     198  ...      Nelson Agholor      1993  25\n",
              "12  2553502      68     190  ...      DeAndre Carter      1993  25\n",
              "13  2552301      75     246  ...         Vic Beasley      1992  26\n",
              "14  2506467      66     190  ...      Darren Sproles      1983  35\n",
              "15  2557967      73     230  ...          Duke Riley      1994  24\n",
              "16  2558184      71     190  ...      Damontae Kazee      1993  25\n",
              "17  2560995      77     256  ...      Dallas Goedert      1995  23\n",
              "18  2559150      70     220  ...       Corey Clement      1994  24\n",
              "19      310      76     217  ...           Matt Ryan      1985  33\n",
              "\n",
              "[20 rows x 9 columns]"
            ]
          },
          "metadata": {},
          "execution_count": 15
        }
      ]
    },
    {
      "cell_type": "markdown",
      "metadata": {
        "id": "ob93RuMDqECU"
      },
      "source": [
        "Now, instead of looking at the height and weight distribution of players seperately, let us look at them together by making a joint plot."
      ]
    },
    {
      "cell_type": "code",
      "metadata": {
        "colab": {
          "base_uri": "https://localhost:8080/"
        },
        "id": "bO0DyuEWqECW",
        "outputId": "d8c7a858-24cc-446f-9966-78587e2cdf8a"
      },
      "source": [
        "# Extracting the height values\n",
        "players_df['height'].values"
      ],
      "execution_count": 16,
      "outputs": [
        {
          "output_type": "execute_result",
          "data": {
            "text/plain": [
              "array([72, 70, 69, ..., 78, 69, 74])"
            ]
          },
          "metadata": {},
          "execution_count": 16
        }
      ]
    },
    {
      "cell_type": "code",
      "metadata": {
        "id": "p1OGJmbMqECY"
      },
      "source": [
        "# Assigning the height and weight values\n",
        "height = players_df['height'].values\n",
        "weight = players_df['weight'].values"
      ],
      "execution_count": 17,
      "outputs": []
    },
    {
      "cell_type": "code",
      "metadata": {
        "colab": {
          "base_uri": "https://localhost:8080/",
          "height": 458
        },
        "id": "X6yOQuaoqECd",
        "outputId": "90c5d65a-7727-4b8f-de76-9200f77fb307"
      },
      "source": [
        "# Plotting a joint plot\n",
        "sns.jointplot(weight, height)"
      ],
      "execution_count": 18,
      "outputs": [
        {
          "output_type": "execute_result",
          "data": {
            "text/plain": [
              "<seaborn.axisgrid.JointGrid at 0x7fb5c49eca50>"
            ]
          },
          "metadata": {},
          "execution_count": 18
        },
        {
          "output_type": "display_data",
          "data": {
            "image/png": "[encoded data removed]",
            "text/plain": [
              "<Figure size 432x432 with 3 Axes>"
            ]
          },
          "metadata": {
            "needs_background": "light"
          }
        }
      ]
    }
  ]
}